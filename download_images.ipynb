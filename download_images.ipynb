{
 "cells": [
  {
   "cell_type": "markdown",
   "metadata": {},
   "source": [
    "#### Import libraries and read files"
   ]
  },
  {
   "cell_type": "code",
   "execution_count": 2,
   "metadata": {},
   "outputs": [],
   "source": [
    "from collections import Counter\n",
    "from sklearn.cluster import KMeans\n",
    "from matplotlib import colors\n",
    "import matplotlib.pyplot as plt\n",
    "import numpy as np\n",
    "import pandas as pd\n",
    "import cv2"
   ]
  },
  {
   "cell_type": "code",
   "execution_count": 4,
   "metadata": {},
   "outputs": [
    {
     "name": "stderr",
     "output_type": "stream",
     "text": [
      "/tmp/ipykernel_42259/1291952632.py:2: TqdmDeprecationWarning: This function will be removed in tqdm==5.0.0\n",
      "Please use `tqdm.notebook.tqdm` instead of `tqdm.tqdm_notebook`\n",
      "  tqdm_notebook().pandas()\n"
     ]
    },
    {
     "data": {
      "application/vnd.jupyter.widget-view+json": {
       "model_id": "a710a9ad00b243a798266b6b113ff32c",
       "version_major": 2,
       "version_minor": 0
      },
      "text/plain": [
       "0it [00:00, ?it/s]"
      ]
     },
     "metadata": {},
     "output_type": "display_data"
    }
   ],
   "source": [
    "from tqdm import tqdm, tqdm_notebook\n",
    "tqdm_notebook().pandas()"
   ]
  },
  {
   "cell_type": "code",
   "execution_count": 3,
   "metadata": {},
   "outputs": [
    {
     "data": {
      "text/html": [
       "<div>\n",
       "<style scoped>\n",
       "    .dataframe tbody tr th:only-of-type {\n",
       "        vertical-align: middle;\n",
       "    }\n",
       "\n",
       "    .dataframe tbody tr th {\n",
       "        vertical-align: top;\n",
       "    }\n",
       "\n",
       "    .dataframe thead th {\n",
       "        text-align: right;\n",
       "    }\n",
       "</style>\n",
       "<table border=\"1\" class=\"dataframe\">\n",
       "  <thead>\n",
       "    <tr style=\"text-align: right;\">\n",
       "      <th></th>\n",
       "      <th>ID</th>\n",
       "      <th>Category</th>\n",
       "      <th>Artist</th>\n",
       "      <th>Title</th>\n",
       "      <th>Year</th>\n",
       "      <th>Image URL</th>\n",
       "      <th>Painting Info URL</th>\n",
       "      <th>Artist Info URL</th>\n",
       "    </tr>\n",
       "  </thead>\n",
       "  <tbody>\n",
       "    <tr>\n",
       "      <th>0</th>\n",
       "      <td>58c6237dedc2c9c7dc0de1ae</td>\n",
       "      <td>Impressionism</td>\n",
       "      <td>Charles Courtney Curran</td>\n",
       "      <td>In the Luxembourg Garden</td>\n",
       "      <td>1889</td>\n",
       "      <td>https://uploads3.wikiart.org/00123/images/char...</td>\n",
       "      <td>https://www.wikiart.org/en/charles-courtney-cu...</td>\n",
       "      <td>https://www.wikiart.org/en/charles-courtney-cu...</td>\n",
       "    </tr>\n",
       "    <tr>\n",
       "      <th>1</th>\n",
       "      <td>577280dfedc2cb3880f28e76</td>\n",
       "      <td>Neo-Expressionism</td>\n",
       "      <td>Keith Haring</td>\n",
       "      <td>The Marriage of Heaven and Hell</td>\n",
       "      <td>1984</td>\n",
       "      <td>https://uploads1.wikiart.org/images/keith-hari...</td>\n",
       "      <td>https://www.wikiart.org/en/keith-haring/the-ma...</td>\n",
       "      <td>https://www.wikiart.org/en/keith-haring</td>\n",
       "    </tr>\n",
       "    <tr>\n",
       "      <th>2</th>\n",
       "      <td>57727f2dedc2cb3880ed5fa9</td>\n",
       "      <td>Post-Impressionism</td>\n",
       "      <td>Jozsef Rippl-Ronai</td>\n",
       "      <td>Uncle Piacsek in front of the Black Sideboard</td>\n",
       "      <td>1906</td>\n",
       "      <td>https://uploads3.wikiart.org/images/j-zsef-rip...</td>\n",
       "      <td>https://www.wikiart.org/en/jozsef-rippl-ronai/...</td>\n",
       "      <td>https://www.wikiart.org/en/jozsef-rippl-ronai</td>\n",
       "    </tr>\n",
       "    <tr>\n",
       "      <th>3</th>\n",
       "      <td>58d1240cedc2c94f900fc610</td>\n",
       "      <td>Cubism</td>\n",
       "      <td>Vadym Meller</td>\n",
       "      <td>Monk. For the Play &amp;#39;Mazeppa&amp;#39;</td>\n",
       "      <td>1920</td>\n",
       "      <td>https://uploads2.wikiart.org/00124/images/vady...</td>\n",
       "      <td>https://www.wikiart.org/en/vadym-meller/monk-f...</td>\n",
       "      <td>https://www.wikiart.org/en/vadym-meller</td>\n",
       "    </tr>\n",
       "    <tr>\n",
       "      <th>4</th>\n",
       "      <td>57727de7edc2cb3880e91f26</td>\n",
       "      <td>Romanticism</td>\n",
       "      <td>David Wilkie</td>\n",
       "      <td>The Defence of Sarago&amp;#231;a</td>\n",
       "      <td>1828</td>\n",
       "      <td>https://uploads6.wikiart.org/images/david-wilk...</td>\n",
       "      <td>https://www.wikiart.org/en/david-wilkie/the-de...</td>\n",
       "      <td>https://www.wikiart.org/en/david-wilkie</td>\n",
       "    </tr>\n",
       "  </tbody>\n",
       "</table>\n",
       "</div>"
      ],
      "text/plain": [
       "                         ID            Category                   Artist  \\\n",
       "0  58c6237dedc2c9c7dc0de1ae       Impressionism  Charles Courtney Curran   \n",
       "1  577280dfedc2cb3880f28e76   Neo-Expressionism             Keith Haring   \n",
       "2  57727f2dedc2cb3880ed5fa9  Post-Impressionism       Jozsef Rippl-Ronai   \n",
       "3  58d1240cedc2c94f900fc610              Cubism             Vadym Meller   \n",
       "4  57727de7edc2cb3880e91f26         Romanticism             David Wilkie   \n",
       "\n",
       "                                           Title  Year  \\\n",
       "0                       In the Luxembourg Garden  1889   \n",
       "1                The Marriage of Heaven and Hell  1984   \n",
       "2  Uncle Piacsek in front of the Black Sideboard  1906   \n",
       "3           Monk. For the Play &#39;Mazeppa&#39;  1920   \n",
       "4                   The Defence of Sarago&#231;a  1828   \n",
       "\n",
       "                                           Image URL  \\\n",
       "0  https://uploads3.wikiart.org/00123/images/char...   \n",
       "1  https://uploads1.wikiart.org/images/keith-hari...   \n",
       "2  https://uploads3.wikiart.org/images/j-zsef-rip...   \n",
       "3  https://uploads2.wikiart.org/00124/images/vady...   \n",
       "4  https://uploads6.wikiart.org/images/david-wilk...   \n",
       "\n",
       "                                   Painting Info URL  \\\n",
       "0  https://www.wikiart.org/en/charles-courtney-cu...   \n",
       "1  https://www.wikiart.org/en/keith-haring/the-ma...   \n",
       "2  https://www.wikiart.org/en/jozsef-rippl-ronai/...   \n",
       "3  https://www.wikiart.org/en/vadym-meller/monk-f...   \n",
       "4  https://www.wikiart.org/en/david-wilkie/the-de...   \n",
       "\n",
       "                                     Artist Info URL  \n",
       "0  https://www.wikiart.org/en/charles-courtney-cu...  \n",
       "1            https://www.wikiart.org/en/keith-haring  \n",
       "2      https://www.wikiart.org/en/jozsef-rippl-ronai  \n",
       "3            https://www.wikiart.org/en/vadym-meller  \n",
       "4            https://www.wikiart.org/en/david-wilkie  "
      ]
     },
     "execution_count": 3,
     "metadata": {},
     "output_type": "execute_result"
    }
   ],
   "source": [
    "df = pd.read_csv(\"data/WikiArt-info.tsv\", sep='\\t')\n",
    "df.head()"
   ]
  },
  {
   "cell_type": "code",
   "execution_count": 12,
   "metadata": {},
   "outputs": [],
   "source": [
    "import os\n",
    "import requests"
   ]
  },
  {
   "cell_type": "code",
   "execution_count": 14,
   "metadata": {},
   "outputs": [
    {
     "ename": "SyntaxError",
     "evalue": "invalid syntax (150816969.py, line 7)",
     "output_type": "error",
     "traceback": [
      "\u001b[0;36m  File \u001b[0;32m\"/tmp/ipykernel_42259/150816969.py\"\u001b[0;36m, line \u001b[0;32m7\u001b[0m\n\u001b[0;31m    url = row.link\u001b[0m\n\u001b[0m    ^\u001b[0m\n\u001b[0;31mSyntaxError\u001b[0m\u001b[0;31m:\u001b[0m invalid syntax\n"
     ]
    }
   ],
   "source": [
    "\n",
    "\n",
    "\n",
    "def download(row):\n",
    "   filename = os.path.join(root_folder,'_'.join([row['Title']],str(row.name) + im_extension)\n",
    "\n",
    "   # create folder if it doesn't exist\n",
    "   os.makedirs(os.path.dirname(filename), exist_ok=True)\n",
    "\n",
    "   url = row.link\n",
    "   print(f\"Downloading {url} to {filename}\")\n",
    "   r = requests.get(url, allow_redirects=True)\n",
    "   with open(filename, 'wb') as f:\n",
    "       f.write(r.content)\n",
    "\n",
    "root_folder = '/Users/rawanalmobarak/Desktop/Misk_DSI/capstone/Artist_Emotions-1/Images'\n",
    "im_extension = '.jpg'  # or whatever type of images you are downloading\n",
    "\n",
    "df.apply(download, axis=1)"
   ]
  },
  {
   "cell_type": "code",
   "execution_count": 30,
   "metadata": {},
   "outputs": [
    {
     "data": {
      "text/html": [
       "<div>\n",
       "<style scoped>\n",
       "    .dataframe tbody tr th:only-of-type {\n",
       "        vertical-align: middle;\n",
       "    }\n",
       "\n",
       "    .dataframe tbody tr th {\n",
       "        vertical-align: top;\n",
       "    }\n",
       "\n",
       "    .dataframe thead th {\n",
       "        text-align: right;\n",
       "    }\n",
       "</style>\n",
       "<table border=\"1\" class=\"dataframe\">\n",
       "  <thead>\n",
       "    <tr style=\"text-align: right;\">\n",
       "      <th></th>\n",
       "      <th>Category</th>\n",
       "      <th>Artist</th>\n",
       "      <th>Title</th>\n",
       "      <th>Year</th>\n",
       "      <th>Image URL</th>\n",
       "      <th>Painting Info URL</th>\n",
       "      <th>Artist Info URL</th>\n",
       "      <th>dcolor</th>\n",
       "      <th>rgb</th>\n",
       "      <th>palette</th>\n",
       "      <th>dcname</th>\n",
       "    </tr>\n",
       "    <tr>\n",
       "      <th>ID</th>\n",
       "      <th></th>\n",
       "      <th></th>\n",
       "      <th></th>\n",
       "      <th></th>\n",
       "      <th></th>\n",
       "      <th></th>\n",
       "      <th></th>\n",
       "      <th></th>\n",
       "      <th></th>\n",
       "      <th></th>\n",
       "      <th></th>\n",
       "    </tr>\n",
       "  </thead>\n",
       "  <tbody>\n",
       "    <tr>\n",
       "      <th>58c6237dedc2c9c7dc0de1ae</th>\n",
       "      <td>Impressionism</td>\n",
       "      <td>Charles Courtney Curran</td>\n",
       "      <td>In the Luxembourg Garden</td>\n",
       "      <td>1889</td>\n",
       "      <td>https://uploads3.wikiart.org/00123/images/char...</td>\n",
       "      <td>https://www.wikiart.org/en/charles-courtney-cu...</td>\n",
       "      <td>https://www.wikiart.org/en/charles-courtney-cu...</td>\n",
       "      <td>(43, 46, 20)</td>\n",
       "      <td>[(63, 64, 26), (191, 169, 126), (152, 157, 117...</td>\n",
       "      <td>['darkolivegreen', 'darkkhaki', 'gray', 'gray']</td>\n",
       "      <td>black</td>\n",
       "    </tr>\n",
       "    <tr>\n",
       "      <th>577280dfedc2cb3880f28e76</th>\n",
       "      <td>Neo-Expressionism</td>\n",
       "      <td>Keith Haring</td>\n",
       "      <td>The Marriage of Heaven and Hell</td>\n",
       "      <td>1984</td>\n",
       "      <td>https://uploads1.wikiart.org/images/keith-hari...</td>\n",
       "      <td>https://www.wikiart.org/en/keith-haring/the-ma...</td>\n",
       "      <td>https://www.wikiart.org/en/keith-haring</td>\n",
       "      <td>(29, 26, 22)</td>\n",
       "      <td>[(214, 211, 207), (30, 27, 23), (103, 96, 91),...</td>\n",
       "      <td>['lightgray', 'black', 'dimgray', 'dimgray']</td>\n",
       "      <td>black</td>\n",
       "    </tr>\n",
       "    <tr>\n",
       "      <th>57727f2dedc2cb3880ed5fa9</th>\n",
       "      <td>Post-Impressionism</td>\n",
       "      <td>Jozsef Rippl-Ronai</td>\n",
       "      <td>Uncle Piacsek in front of the Black Sideboard</td>\n",
       "      <td>1906</td>\n",
       "      <td>https://uploads3.wikiart.org/images/j-zsef-rip...</td>\n",
       "      <td>https://www.wikiart.org/en/jozsef-rippl-ronai/...</td>\n",
       "      <td>https://www.wikiart.org/en/jozsef-rippl-ronai</td>\n",
       "      <td>(133, 105, 104)</td>\n",
       "      <td>[(171, 140, 113), (39, 38, 43), (183, 184, 213...</td>\n",
       "      <td>['rosybrown', 'darkslategray', 'lightsteelblue...</td>\n",
       "      <td>dimgray</td>\n",
       "    </tr>\n",
       "    <tr>\n",
       "      <th>58d1240cedc2c94f900fc610</th>\n",
       "      <td>Cubism</td>\n",
       "      <td>Vadym Meller</td>\n",
       "      <td>Monk. For the Play &amp;#39;Mazeppa&amp;#39;</td>\n",
       "      <td>1920</td>\n",
       "      <td>https://uploads2.wikiart.org/00124/images/vady...</td>\n",
       "      <td>https://www.wikiart.org/en/vadym-meller/monk-f...</td>\n",
       "      <td>https://www.wikiart.org/en/vadym-meller</td>\n",
       "      <td>(214, 173, 116)</td>\n",
       "      <td>[(217, 175, 117), (101, 79, 57), (118, 104, 79...</td>\n",
       "      <td>['burlywood', 'darkolivegreen', 'dimgray', 'li...</td>\n",
       "      <td>burlywood</td>\n",
       "    </tr>\n",
       "    <tr>\n",
       "      <th>57727de7edc2cb3880e91f26</th>\n",
       "      <td>Romanticism</td>\n",
       "      <td>David Wilkie</td>\n",
       "      <td>The Defence of Sarago&amp;#231;a</td>\n",
       "      <td>1828</td>\n",
       "      <td>https://uploads6.wikiart.org/images/david-wilk...</td>\n",
       "      <td>https://www.wikiart.org/en/david-wilkie/the-de...</td>\n",
       "      <td>https://www.wikiart.org/en/david-wilkie</td>\n",
       "      <td>(199, 174, 138)</td>\n",
       "      <td>[(57, 44, 35), (199, 174, 138), (160, 154, 148...</td>\n",
       "      <td>['darkslategray', 'tan', 'darkgray', 'gray']</td>\n",
       "      <td>tan</td>\n",
       "    </tr>\n",
       "  </tbody>\n",
       "</table>\n",
       "</div>"
      ],
      "text/plain": [
       "                                    Category                   Artist  \\\n",
       "ID                                                                      \n",
       "58c6237dedc2c9c7dc0de1ae       Impressionism  Charles Courtney Curran   \n",
       "577280dfedc2cb3880f28e76   Neo-Expressionism             Keith Haring   \n",
       "57727f2dedc2cb3880ed5fa9  Post-Impressionism       Jozsef Rippl-Ronai   \n",
       "58d1240cedc2c94f900fc610              Cubism             Vadym Meller   \n",
       "57727de7edc2cb3880e91f26         Romanticism             David Wilkie   \n",
       "\n",
       "                                                                  Title  Year  \\\n",
       "ID                                                                              \n",
       "58c6237dedc2c9c7dc0de1ae                       In the Luxembourg Garden  1889   \n",
       "577280dfedc2cb3880f28e76                The Marriage of Heaven and Hell  1984   \n",
       "57727f2dedc2cb3880ed5fa9  Uncle Piacsek in front of the Black Sideboard  1906   \n",
       "58d1240cedc2c94f900fc610           Monk. For the Play &#39;Mazeppa&#39;  1920   \n",
       "57727de7edc2cb3880e91f26                   The Defence of Sarago&#231;a  1828   \n",
       "\n",
       "                                                                  Image URL  \\\n",
       "ID                                                                            \n",
       "58c6237dedc2c9c7dc0de1ae  https://uploads3.wikiart.org/00123/images/char...   \n",
       "577280dfedc2cb3880f28e76  https://uploads1.wikiart.org/images/keith-hari...   \n",
       "57727f2dedc2cb3880ed5fa9  https://uploads3.wikiart.org/images/j-zsef-rip...   \n",
       "58d1240cedc2c94f900fc610  https://uploads2.wikiart.org/00124/images/vady...   \n",
       "57727de7edc2cb3880e91f26  https://uploads6.wikiart.org/images/david-wilk...   \n",
       "\n",
       "                                                          Painting Info URL  \\\n",
       "ID                                                                            \n",
       "58c6237dedc2c9c7dc0de1ae  https://www.wikiart.org/en/charles-courtney-cu...   \n",
       "577280dfedc2cb3880f28e76  https://www.wikiart.org/en/keith-haring/the-ma...   \n",
       "57727f2dedc2cb3880ed5fa9  https://www.wikiart.org/en/jozsef-rippl-ronai/...   \n",
       "58d1240cedc2c94f900fc610  https://www.wikiart.org/en/vadym-meller/monk-f...   \n",
       "57727de7edc2cb3880e91f26  https://www.wikiart.org/en/david-wilkie/the-de...   \n",
       "\n",
       "                                                            Artist Info URL  \\\n",
       "ID                                                                            \n",
       "58c6237dedc2c9c7dc0de1ae  https://www.wikiart.org/en/charles-courtney-cu...   \n",
       "577280dfedc2cb3880f28e76            https://www.wikiart.org/en/keith-haring   \n",
       "57727f2dedc2cb3880ed5fa9      https://www.wikiart.org/en/jozsef-rippl-ronai   \n",
       "58d1240cedc2c94f900fc610            https://www.wikiart.org/en/vadym-meller   \n",
       "57727de7edc2cb3880e91f26            https://www.wikiart.org/en/david-wilkie   \n",
       "\n",
       "                                   dcolor  \\\n",
       "ID                                          \n",
       "58c6237dedc2c9c7dc0de1ae     (43, 46, 20)   \n",
       "577280dfedc2cb3880f28e76     (29, 26, 22)   \n",
       "57727f2dedc2cb3880ed5fa9  (133, 105, 104)   \n",
       "58d1240cedc2c94f900fc610  (214, 173, 116)   \n",
       "57727de7edc2cb3880e91f26  (199, 174, 138)   \n",
       "\n",
       "                                                                        rgb  \\\n",
       "ID                                                                            \n",
       "58c6237dedc2c9c7dc0de1ae  [(63, 64, 26), (191, 169, 126), (152, 157, 117...   \n",
       "577280dfedc2cb3880f28e76  [(214, 211, 207), (30, 27, 23), (103, 96, 91),...   \n",
       "57727f2dedc2cb3880ed5fa9  [(171, 140, 113), (39, 38, 43), (183, 184, 213...   \n",
       "58d1240cedc2c94f900fc610  [(217, 175, 117), (101, 79, 57), (118, 104, 79...   \n",
       "57727de7edc2cb3880e91f26  [(57, 44, 35), (199, 174, 138), (160, 154, 148...   \n",
       "\n",
       "                                                                    palette  \\\n",
       "ID                                                                            \n",
       "58c6237dedc2c9c7dc0de1ae    ['darkolivegreen', 'darkkhaki', 'gray', 'gray']   \n",
       "577280dfedc2cb3880f28e76       ['lightgray', 'black', 'dimgray', 'dimgray']   \n",
       "57727f2dedc2cb3880ed5fa9  ['rosybrown', 'darkslategray', 'lightsteelblue...   \n",
       "58d1240cedc2c94f900fc610  ['burlywood', 'darkolivegreen', 'dimgray', 'li...   \n",
       "57727de7edc2cb3880e91f26       ['darkslategray', 'tan', 'darkgray', 'gray']   \n",
       "\n",
       "                             dcname  \n",
       "ID                                   \n",
       "58c6237dedc2c9c7dc0de1ae      black  \n",
       "577280dfedc2cb3880f28e76      black  \n",
       "57727f2dedc2cb3880ed5fa9    dimgray  \n",
       "58d1240cedc2c94f900fc610  burlywood  \n",
       "57727de7edc2cb3880e91f26        tan  "
      ]
     },
     "execution_count": 30,
     "metadata": {},
     "output_type": "execute_result"
    }
   ],
   "source": [
    "df2 = pd.read_csv(\"full_emotion_color.csv\", index_col=0)\n",
    "df2.head()"
   ]
  },
  {
   "cell_type": "code",
   "execution_count": 17,
   "metadata": {},
   "outputs": [],
   "source": [
    "import sys\n",
    "import urllib\n",
    "from csv import reader\n",
    "import os.path\n"
   ]
  },
  {
   "cell_type": "code",
   "execution_count": 34,
   "metadata": {},
   "outputs": [],
   "source": [
    "import pandas as pd\n",
    "df6=pd.read_csv('full_emotion_color.csv')\n",
    "df_new=df6['Image URL'] \n",
    "df_new.to_csv(\"output.csv\",index=False)"
   ]
  },
  {
   "cell_type": "code",
   "execution_count": 50,
   "metadata": {},
   "outputs": [
    {
     "ename": "AttributeError",
     "evalue": "'tuple' object has no attribute 'to_csv'",
     "output_type": "error",
     "traceback": [
      "\u001b[0;31m---------------------------------------------------------------------------\u001b[0m",
      "\u001b[0;31mAttributeError\u001b[0m                            Traceback (most recent call last)",
      "\u001b[0;32m/tmp/ipykernel_42259/2286160737.py\u001b[0m in \u001b[0;36m<module>\u001b[0;34m\u001b[0m\n\u001b[1;32m      2\u001b[0m \u001b[0md11\u001b[0m\u001b[0;34m=\u001b[0m\u001b[0mpd\u001b[0m\u001b[0;34m.\u001b[0m\u001b[0mread_csv\u001b[0m\u001b[0;34m(\u001b[0m\u001b[0;34m'full_emotion_color.csv'\u001b[0m\u001b[0;34m)\u001b[0m\u001b[0;34m\u001b[0m\u001b[0;34m\u001b[0m\u001b[0m\n\u001b[1;32m      3\u001b[0m \u001b[0mdf_new1\u001b[0m\u001b[0;34m=\u001b[0m\u001b[0md11\u001b[0m\u001b[0;34m[\u001b[0m\u001b[0;34m'Title'\u001b[0m\u001b[0;34m]\u001b[0m\u001b[0;34m,\u001b[0m\u001b[0mdf\u001b[0m\u001b[0;34m[\u001b[0m\u001b[0;34m'Image URL'\u001b[0m\u001b[0;34m]\u001b[0m\u001b[0;34m\u001b[0m\u001b[0;34m\u001b[0m\u001b[0m\n\u001b[0;32m----> 4\u001b[0;31m \u001b[0mdf_new1\u001b[0m\u001b[0;34m.\u001b[0m\u001b[0mto_csv\u001b[0m\u001b[0;34m(\u001b[0m\u001b[0;34m\"output1.csv\"\u001b[0m\u001b[0;34m,\u001b[0m\u001b[0mindex\u001b[0m\u001b[0;34m=\u001b[0m\u001b[0;32mFalse\u001b[0m\u001b[0;34m)\u001b[0m\u001b[0;34m\u001b[0m\u001b[0;34m\u001b[0m\u001b[0m\n\u001b[0m",
      "\u001b[0;31mAttributeError\u001b[0m: 'tuple' object has no attribute 'to_csv'"
     ]
    }
   ],
   "source": []
  },
  {
   "cell_type": "code",
   "execution_count": 31,
   "metadata": {},
   "outputs": [],
   "source": [
    "links = df2['Image URL'].to_list"
   ]
  },
  {
   "cell_type": "code",
   "execution_count": 38,
   "metadata": {},
   "outputs": [],
   "source": [
    "import os\n",
    "import sys\n",
    "import csv\n",
    "import tqdm\n",
    "import multiprocessing\n",
    "from urllib import error\n",
    "from urllib import request\n",
    "from PIL import Image\n",
    "from io import BytesIO\n",
    "\n",
    "\n",
    "def parse_data(data_file):\n",
    "    csvfile = open(data_file, 'r')\n",
    "    csvreader = csv.reader(csvfile)\n",
    "    key_url_list = [line[:2] for line in csvreader]\n",
    "    return key_url_list[1:]  # Chop off header\n",
    "\n",
    "\n",
    "\n",
    "\n",
    "\n"
   ]
  },
  {
   "cell_type": "code",
   "execution_count": 53,
   "metadata": {},
   "outputs": [],
   "source": [
    "def download_image(key_url):\n",
    "    out_dir = sys.argv[2]\n",
    "    (key, url) = key_url\n",
    "    filename = os.path.join(out_dir, '{}.jpg'.format(key))\n",
    "\n",
    "    if os.path.exists(filename):\n",
    "        print('Image {} already exists. Skipping download.'.format(filename))\n",
    "        return 0\n",
    "\n",
    "    try:\n",
    "        response = request.urlopen(url)\n",
    "        image_data = response.read()\n",
    "    except:\n",
    "        print('Warning: Could not download image {} from {}'.format(key, url))\n",
    "        return 1\n",
    "\n",
    "    try:\n",
    "        pil_image = Image.open(BytesIO(image_data))\n",
    "    except:\n",
    "        print('Warning: Failed to parse image {}'.format(key))\n",
    "        return 1\n",
    "\n",
    "    try:\n",
    "        pil_image_rgb = pil_image.convert('RGB')\n",
    "    except:\n",
    "        print('Warning: Failed to convert image {} to RGB'.format(key))\n",
    "        return 1\n",
    "\n",
    "    try:\n",
    "        pil_image_rgb.save(filename, format='JPEG', quality=90)\n",
    "    except:\n",
    "        print('Warning: Failed to save image {}'.format(filename))\n",
    "        return 1\n",
    "    \n",
    "    return 0"
   ]
  },
  {
   "cell_type": "code",
   "execution_count": 57,
   "metadata": {},
   "outputs": [],
   "source": [
    "def loader():\n",
    "    if len(sys.argv) != 3:\n",
    "        print('Syntax: {} <data_file.csv> <output_dir/>'.format(sys.argv[0]))\n",
    "        sys.exit(0)\n",
    "    (data_file, out_dir) = sys.argv[1:]\n",
    "\n",
    "    if not os.path.exists(out_dir):\n",
    "        os.mkdir(out_dir)\n",
    "\n",
    "    key_url_list = parse_data(data_file)\n",
    "    pool = multiprocessing.Pool(processes=20)  # Num of CPUs\n",
    "    failures = sum(tqdm.tqdm(pool.imap_unordered(download_image, key_url_list), total=len(key_url_list)))\n",
    "    print('Total number of download failures:', failures)\n",
    "    pool.close()\n",
    "    pool.terminate()"
   ]
  },
  {
   "cell_type": "code",
   "execution_count": null,
   "metadata": {},
   "outputs": [],
   "source": [
    "loader()<'output.csv'> <'/Users/rawanalmobarak/Desktop/Misk_DSI/capstone/Artist_Emotions-1/Images'>\n",
    "loader() 'output.csv' '/Users/rawanalmobarak/Desktop/Misk_DSI/capstone/Artist_Emotions-1/Images'"
   ]
  },
  {
   "cell_type": "code",
   "execution_count": 58,
   "metadata": {},
   "outputs": [
    {
     "name": "stdout",
     "output_type": "stream",
     "text": [
      "Syntax: /opt/conda/lib/python3.9/site-packages/ipykernel_launcher.py <data_file.csv> <output_dir/>\n"
     ]
    },
    {
     "ename": "SystemExit",
     "evalue": "0",
     "output_type": "error",
     "traceback": [
      "An exception has occurred, use %tb to see the full traceback.\n",
      "\u001b[0;31mSystemExit\u001b[0m\u001b[0;31m:\u001b[0m 0\n"
     ]
    },
    {
     "name": "stderr",
     "output_type": "stream",
     "text": [
      "/opt/conda/lib/python3.9/site-packages/IPython/core/interactiveshell.py:3452: UserWarning: To exit: use 'exit', 'quit', or Ctrl-D.\n",
      "  warn(\"To exit: use 'exit', 'quit', or Ctrl-D.\", stacklevel=1)\n"
     ]
    }
   ],
   "source": [
    "if __name__ == '__main__':\n",
    "    loader()"
   ]
  },
  {
   "cell_type": "code",
   "execution_count": 48,
   "metadata": {},
   "outputs": [
    {
     "name": "stdout",
     "output_type": "stream",
     "text": [
      "['https://uploads3.wikiart.org/00123/images/charles-courtney-curran/in-the-luxembourg-garden-1889.jpg']\n"
     ]
    },
    {
     "ename": "ValueError",
     "evalue": "not enough values to unpack (expected 2, got 1)",
     "output_type": "error",
     "traceback": [
      "\u001b[0;31m---------------------------------------------------------------------------\u001b[0m",
      "\u001b[0;31mValueError\u001b[0m                                Traceback (most recent call last)",
      "\u001b[0;32m/tmp/ipykernel_42259/1951375502.py\u001b[0m in \u001b[0;36m<module>\u001b[0;34m\u001b[0m\n\u001b[1;32m      1\u001b[0m \u001b[0;32mfor\u001b[0m \u001b[0mi\u001b[0m \u001b[0;32min\u001b[0m \u001b[0mourlist\u001b[0m\u001b[0;34m:\u001b[0m\u001b[0;34m\u001b[0m\u001b[0;34m\u001b[0m\u001b[0m\n\u001b[1;32m      2\u001b[0m     \u001b[0mprint\u001b[0m\u001b[0;34m(\u001b[0m\u001b[0mi\u001b[0m\u001b[0;34m)\u001b[0m\u001b[0;34m\u001b[0m\u001b[0;34m\u001b[0m\u001b[0m\n\u001b[0;32m----> 3\u001b[0;31m     \u001b[0mdownload_image\u001b[0m\u001b[0;34m(\u001b[0m\u001b[0mi\u001b[0m\u001b[0;34m)\u001b[0m\u001b[0;34m\u001b[0m\u001b[0;34m\u001b[0m\u001b[0m\n\u001b[0m",
      "\u001b[0;32m/tmp/ipykernel_42259/3130374475.py\u001b[0m in \u001b[0;36mdownload_image\u001b[0;34m(key_url)\u001b[0m\n\u001b[1;32m     19\u001b[0m \u001b[0;32mdef\u001b[0m \u001b[0mdownload_image\u001b[0m\u001b[0;34m(\u001b[0m\u001b[0mkey_url\u001b[0m\u001b[0;34m)\u001b[0m\u001b[0;34m:\u001b[0m\u001b[0;34m\u001b[0m\u001b[0;34m\u001b[0m\u001b[0m\n\u001b[1;32m     20\u001b[0m     \u001b[0mout_dir\u001b[0m \u001b[0;34m=\u001b[0m \u001b[0msys\u001b[0m\u001b[0;34m.\u001b[0m\u001b[0margv\u001b[0m\u001b[0;34m[\u001b[0m\u001b[0;36m2\u001b[0m\u001b[0;34m]\u001b[0m\u001b[0;34m\u001b[0m\u001b[0;34m\u001b[0m\u001b[0m\n\u001b[0;32m---> 21\u001b[0;31m     \u001b[0;34m(\u001b[0m\u001b[0mkey\u001b[0m\u001b[0;34m,\u001b[0m \u001b[0murl\u001b[0m\u001b[0;34m)\u001b[0m \u001b[0;34m=\u001b[0m \u001b[0mkey_url\u001b[0m\u001b[0;34m\u001b[0m\u001b[0;34m\u001b[0m\u001b[0m\n\u001b[0m\u001b[1;32m     22\u001b[0m     \u001b[0mfilename\u001b[0m \u001b[0;34m=\u001b[0m \u001b[0mos\u001b[0m\u001b[0;34m.\u001b[0m\u001b[0mpath\u001b[0m\u001b[0;34m.\u001b[0m\u001b[0mjoin\u001b[0m\u001b[0;34m(\u001b[0m\u001b[0mout_dir\u001b[0m\u001b[0;34m,\u001b[0m \u001b[0;34m'{}.jpg'\u001b[0m\u001b[0;34m.\u001b[0m\u001b[0mformat\u001b[0m\u001b[0;34m(\u001b[0m\u001b[0mkey\u001b[0m\u001b[0;34m)\u001b[0m\u001b[0;34m)\u001b[0m\u001b[0;34m\u001b[0m\u001b[0;34m\u001b[0m\u001b[0m\n\u001b[1;32m     23\u001b[0m \u001b[0;34m\u001b[0m\u001b[0m\n",
      "\u001b[0;31mValueError\u001b[0m: not enough values to unpack (expected 2, got 1)"
     ]
    }
   ],
   "source": [
    "for i in ourlist:\n",
    "    print(i)\n",
    "    download_image(i)\n"
   ]
  },
  {
   "cell_type": "code",
   "execution_count": 40,
   "metadata": {},
   "outputs": [],
   "source": [
    "ourlist = parse_data(\"output.csv\")"
   ]
  },
  {
   "cell_type": "code",
   "execution_count": 32,
   "metadata": {},
   "outputs": [
    {
     "data": {
      "text/plain": [
       "<bound method IndexOpsMixin.tolist of ID\n",
       "58c6237dedc2c9c7dc0de1ae    https://uploads3.wikiart.org/00123/images/char...\n",
       "577280dfedc2cb3880f28e76    https://uploads1.wikiart.org/images/keith-hari...\n",
       "57727f2dedc2cb3880ed5fa9    https://uploads3.wikiart.org/images/j-zsef-rip...\n",
       "58d1240cedc2c94f900fc610    https://uploads2.wikiart.org/00124/images/vady...\n",
       "57727de7edc2cb3880e91f26    https://uploads6.wikiart.org/images/david-wilk...\n",
       "                                                  ...                        \n",
       "577287aeedc2cb388007fba9    https://uploads7.wikiart.org/images/rupprecht-...\n",
       "57728001edc2cb3880efddcf    https://uploads4.wikiart.org/images/oscar-domi...\n",
       "57728ac7edc2cb3880123cc2    https://uploads2.wikiart.org/images/georg-base...\n",
       "57728412edc2cb3880fc9ff4    https://uploads0.wikiart.org/images/marie-laur...\n",
       "57728126edc2cb3880f3a31d    https://uploads4.wikiart.org/images/paula-mode...\n",
       "Name: Image URL, Length: 4105, dtype: object>"
      ]
     },
     "execution_count": 32,
     "metadata": {},
     "output_type": "execute_result"
    }
   ],
   "source": [
    "links"
   ]
  },
  {
   "cell_type": "code",
   "execution_count": null,
   "metadata": {},
   "outputs": [],
   "source": [
    "df['Image URL'].progress_apply(get_color_name)"
   ]
  },
  {
   "cell_type": "code",
   "execution_count": null,
   "metadata": {},
   "outputs": [],
   "source": []
  }
 ],
 "metadata": {
  "interpreter": {
   "hash": "d56e20087258be1dae39aa9f194b8314ac315bc35be12cc01beab0d61256e8ed"
  },
  "kernelspec": {
   "display_name": "Python 3.10.1 64-bit",
   "language": "python",
   "name": "python3"
  },
  "language_info": {
   "codemirror_mode": {
    "name": "ipython",
    "version": 3
   },
   "file_extension": ".py",
   "mimetype": "text/x-python",
   "name": "python",
   "nbconvert_exporter": "python",
   "pygments_lexer": "ipython3",
   "version": "3.9.7"
  },
  "orig_nbformat": 4
 },
 "nbformat": 4,
 "nbformat_minor": 2
}
