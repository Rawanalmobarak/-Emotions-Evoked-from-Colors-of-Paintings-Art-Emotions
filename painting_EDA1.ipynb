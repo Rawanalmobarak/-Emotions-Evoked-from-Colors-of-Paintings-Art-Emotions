{
 "cells": [
  {
   "cell_type": "markdown",
   "metadata": {},
   "source": [
    "# **Painting Dataset**\n",
    "\n",
    "### **Data Description:**\n",
    "\n",
    "\n",
    "\n",
    "### **Data Content:**\n",
    "\n",
    "\n",
    "### **Data Dictionary:**\n",
    "\n",
    "- ID = \n",
    "- Category = \n",
    "- Artist = \n",
    "- Title = \n",
    "- Year = \n",
    "- Image URL = \n",
    "- Painting Info URLe =\n",
    "- Artist Info URL = \n",
    "\n",
    "\n"
   ]
  },
  {
   "cell_type": "markdown",
   "metadata": {},
   "source": [
    "#### Import libraries and read files"
   ]
  },
  {
   "cell_type": "code",
   "execution_count": 128,
   "metadata": {},
   "outputs": [],
   "source": [
    "# import libraries\n",
    "import pandas as pd\n",
    "import numpy as np\n",
    "import matplotlib.pyplot as plt\n",
    "import seaborn as sns\n",
    "from plotnine import ggplot, aes, geom_density, geom_line, geom_point, ggtitle\n",
    "from sklearn.neighbors import LocalOutlierFactor #Outliar handling\n",
    "\n",
    "# Modeling process\n",
    "from sklearn.model_selection import train_test_split, KFold, RepeatedKFold, cross_val_score\n",
    "from sklearn.model_selection import GridSearchCV\n"
   ]
  },
  {
   "cell_type": "code",
   "execution_count": 148,
   "metadata": {},
   "outputs": [
    {
     "data": {
      "text/html": [
       "<div>\n",
       "<style scoped>\n",
       "    .dataframe tbody tr th:only-of-type {\n",
       "        vertical-align: middle;\n",
       "    }\n",
       "\n",
       "    .dataframe tbody tr th {\n",
       "        vertical-align: top;\n",
       "    }\n",
       "\n",
       "    .dataframe thead th {\n",
       "        text-align: right;\n",
       "    }\n",
       "</style>\n",
       "<table border=\"1\" class=\"dataframe\">\n",
       "  <thead>\n",
       "    <tr style=\"text-align: right;\">\n",
       "      <th></th>\n",
       "      <th>ID</th>\n",
       "      <th>Category</th>\n",
       "      <th>Artist</th>\n",
       "      <th>Title</th>\n",
       "      <th>Year</th>\n",
       "      <th>Image URL</th>\n",
       "      <th>Painting Info URL</th>\n",
       "      <th>Artist Info URL</th>\n",
       "    </tr>\n",
       "  </thead>\n",
       "  <tbody>\n",
       "    <tr>\n",
       "      <th>0</th>\n",
       "      <td>58c6237dedc2c9c7dc0de1ae</td>\n",
       "      <td>Impressionism</td>\n",
       "      <td>Charles Courtney Curran</td>\n",
       "      <td>In the Luxembourg Garden</td>\n",
       "      <td>1889</td>\n",
       "      <td>https://uploads3.wikiart.org/00123/images/char...</td>\n",
       "      <td>https://www.wikiart.org/en/charles-courtney-cu...</td>\n",
       "      <td>https://www.wikiart.org/en/charles-courtney-cu...</td>\n",
       "    </tr>\n",
       "    <tr>\n",
       "      <th>1</th>\n",
       "      <td>577280dfedc2cb3880f28e76</td>\n",
       "      <td>Neo-Expressionism</td>\n",
       "      <td>Keith Haring</td>\n",
       "      <td>The Marriage of Heaven and Hell</td>\n",
       "      <td>1984</td>\n",
       "      <td>https://uploads1.wikiart.org/images/keith-hari...</td>\n",
       "      <td>https://www.wikiart.org/en/keith-haring/the-ma...</td>\n",
       "      <td>https://www.wikiart.org/en/keith-haring</td>\n",
       "    </tr>\n",
       "    <tr>\n",
       "      <th>2</th>\n",
       "      <td>57727f2dedc2cb3880ed5fa9</td>\n",
       "      <td>Post-Impressionism</td>\n",
       "      <td>Jozsef Rippl-Ronai</td>\n",
       "      <td>Uncle Piacsek in front of the Black Sideboard</td>\n",
       "      <td>1906</td>\n",
       "      <td>https://uploads3.wikiart.org/images/j-zsef-rip...</td>\n",
       "      <td>https://www.wikiart.org/en/jozsef-rippl-ronai/...</td>\n",
       "      <td>https://www.wikiart.org/en/jozsef-rippl-ronai</td>\n",
       "    </tr>\n",
       "    <tr>\n",
       "      <th>3</th>\n",
       "      <td>58d1240cedc2c94f900fc610</td>\n",
       "      <td>Cubism</td>\n",
       "      <td>Vadym Meller</td>\n",
       "      <td>Monk. For the Play &amp;#39;Mazeppa&amp;#39;</td>\n",
       "      <td>1920</td>\n",
       "      <td>https://uploads2.wikiart.org/00124/images/vady...</td>\n",
       "      <td>https://www.wikiart.org/en/vadym-meller/monk-f...</td>\n",
       "      <td>https://www.wikiart.org/en/vadym-meller</td>\n",
       "    </tr>\n",
       "    <tr>\n",
       "      <th>4</th>\n",
       "      <td>57727de7edc2cb3880e91f26</td>\n",
       "      <td>Romanticism</td>\n",
       "      <td>David Wilkie</td>\n",
       "      <td>The Defence of Sarago&amp;#231;a</td>\n",
       "      <td>1828</td>\n",
       "      <td>https://uploads6.wikiart.org/images/david-wilk...</td>\n",
       "      <td>https://www.wikiart.org/en/david-wilkie/the-de...</td>\n",
       "      <td>https://www.wikiart.org/en/david-wilkie</td>\n",
       "    </tr>\n",
       "  </tbody>\n",
       "</table>\n",
       "</div>"
      ],
      "text/plain": [
       "                         ID            Category                   Artist  \\\n",
       "0  58c6237dedc2c9c7dc0de1ae       Impressionism  Charles Courtney Curran   \n",
       "1  577280dfedc2cb3880f28e76   Neo-Expressionism             Keith Haring   \n",
       "2  57727f2dedc2cb3880ed5fa9  Post-Impressionism       Jozsef Rippl-Ronai   \n",
       "3  58d1240cedc2c94f900fc610              Cubism             Vadym Meller   \n",
       "4  57727de7edc2cb3880e91f26         Romanticism             David Wilkie   \n",
       "\n",
       "                                           Title  Year  \\\n",
       "0                       In the Luxembourg Garden  1889   \n",
       "1                The Marriage of Heaven and Hell  1984   \n",
       "2  Uncle Piacsek in front of the Black Sideboard  1906   \n",
       "3           Monk. For the Play &#39;Mazeppa&#39;  1920   \n",
       "4                   The Defence of Sarago&#231;a  1828   \n",
       "\n",
       "                                           Image URL  \\\n",
       "0  https://uploads3.wikiart.org/00123/images/char...   \n",
       "1  https://uploads1.wikiart.org/images/keith-hari...   \n",
       "2  https://uploads3.wikiart.org/images/j-zsef-rip...   \n",
       "3  https://uploads2.wikiart.org/00124/images/vady...   \n",
       "4  https://uploads6.wikiart.org/images/david-wilk...   \n",
       "\n",
       "                                   Painting Info URL  \\\n",
       "0  https://www.wikiart.org/en/charles-courtney-cu...   \n",
       "1  https://www.wikiart.org/en/keith-haring/the-ma...   \n",
       "2  https://www.wikiart.org/en/jozsef-rippl-ronai/...   \n",
       "3  https://www.wikiart.org/en/vadym-meller/monk-f...   \n",
       "4  https://www.wikiart.org/en/david-wilkie/the-de...   \n",
       "\n",
       "                                     Artist Info URL  \n",
       "0  https://www.wikiart.org/en/charles-courtney-cu...  \n",
       "1            https://www.wikiart.org/en/keith-haring  \n",
       "2      https://www.wikiart.org/en/jozsef-rippl-ronai  \n",
       "3            https://www.wikiart.org/en/vadym-meller  \n",
       "4            https://www.wikiart.org/en/david-wilkie  "
      ]
     },
     "execution_count": 148,
     "metadata": {},
     "output_type": "execute_result"
    }
   ],
   "source": [
    "df = pd.read_csv(\"data/WikiArt-info.tsv\", sep='\\t')\n",
    "df.head()"
   ]
  },
  {
   "cell_type": "code",
   "execution_count": 132,
   "metadata": {},
   "outputs": [
    {
     "data": {
      "text/plain": [
       "Index(['ID', 'Category', 'Artist', 'Title', 'Year', 'Image URL',\n",
       "       'Painting Info URL', 'Artist Info URL'],\n",
       "      dtype='object')"
      ]
     },
     "execution_count": 132,
     "metadata": {},
     "output_type": "execute_result"
    }
   ],
   "source": [
    "df.columns"
   ]
  },
  {
   "cell_type": "code",
   "execution_count": 178,
   "metadata": {},
   "outputs": [
    {
     "data": {
      "text/plain": [
       "(4119, 8)"
      ]
     },
     "execution_count": 178,
     "metadata": {},
     "output_type": "execute_result"
    }
   ],
   "source": [
    "df.shape"
   ]
  },
  {
   "cell_type": "code",
   "execution_count": 133,
   "metadata": {},
   "outputs": [
    {
     "name": "stdout",
     "output_type": "stream",
     "text": [
      "<class 'pandas.core.frame.DataFrame'>\n",
      "RangeIndex: 4119 entries, 0 to 4118\n",
      "Data columns (total 8 columns):\n",
      " #   Column             Non-Null Count  Dtype \n",
      "---  ------             --------------  ----- \n",
      " 0   ID                 4119 non-null   object\n",
      " 1   Category           4119 non-null   object\n",
      " 2   Artist             4119 non-null   object\n",
      " 3   Title              4119 non-null   object\n",
      " 4   Year               4119 non-null   object\n",
      " 5   Image URL          4119 non-null   object\n",
      " 6   Painting Info URL  4119 non-null   object\n",
      " 7   Artist Info URL    4119 non-null   object\n",
      "dtypes: object(8)\n",
      "memory usage: 257.6+ KB\n"
     ]
    }
   ],
   "source": [
    "df.info()"
   ]
  },
  {
   "cell_type": "code",
   "execution_count": 181,
   "metadata": {},
   "outputs": [
    {
     "data": {
      "text/plain": [
       "Eyvind Earle             31\n",
       "Pietro Perugino          23\n",
       "Sam Francis              23\n",
       "Mark Rothko              19\n",
       "Willi Baumeister         19\n",
       "                         ..\n",
       "Gianfranco Baruchello     1\n",
       "Lennart Rodhe             1\n",
       "Arman                     1\n",
       "Gerhard Richter           1\n",
       "Oleg Holosiy              1\n",
       "Name: Artist, Length: 1003, dtype: int64"
      ]
     },
     "execution_count": 181,
     "metadata": {},
     "output_type": "execute_result"
    }
   ],
   "source": [
    "df.Artist.value_counts()"
   ]
  },
  {
   "cell_type": "code",
   "execution_count": 196,
   "metadata": {},
   "outputs": [
    {
     "name": "stderr",
     "output_type": "stream",
     "text": [
      "/usr/local/python/lib/python3.10/site-packages/seaborn/_decorators.py:36: FutureWarning: Pass the following variables as keyword args: x, y. From version 0.12, the only valid positional argument will be `data`, and passing other arguments without an explicit keyword will result in an error or misinterpretation.\n"
     ]
    },
    {
     "data": {
      "image/png": "[encoded data removed]",
      "text/plain": [
       "<Figure size 864x504 with 1 Axes>"
      ]
     },
     "metadata": {
      "needs_background": "light"
     },
     "output_type": "display_data"
    }
   ],
   "source": [
    "# Plotting a bar graph of the artists with the most paintings in the dataset\n",
    "artist_values  = df['Artist'].value_counts()\n",
    "artist_count = artist_values[:6,]\n",
    "plt.figure(figsize=(12,7))\n",
    "sns.barplot(artist_count.index, artist_count.values, alpha=0.8, palette=\"cubehelix\")\n",
    "plt.title('Artists with the most number of Paintings')\n",
    "plt.ylabel('Count', fontsize=12)\n",
    "plt.xlabel('Artist', fontsize=12)\n",
    "# plt.xticks(rotation=90)\n",
    "plt.show()"
   ]
  },
  {
   "cell_type": "code",
   "execution_count": 179,
   "metadata": {},
   "outputs": [
    {
     "data": {
      "text/plain": [
       "ID                   0\n",
       "Category             0\n",
       "Artist               0\n",
       "Title                0\n",
       "Year                 0\n",
       "Image URL            0\n",
       "Painting Info URL    0\n",
       "Artist Info URL      0\n",
       "dtype: int64"
      ]
     },
     "execution_count": 179,
     "metadata": {},
     "output_type": "execute_result"
    }
   ],
   "source": [
    "df.isnull().sum()"
   ]
  },
  {
   "cell_type": "code",
   "execution_count": 134,
   "metadata": {},
   "outputs": [
    {
     "data": {
      "text/plain": [
       "1964         81\n",
       "1962         68\n",
       "1959         61\n",
       "1963         59\n",
       "1967         58\n",
       "             ..\n",
       "1475-1478     1\n",
       "1495-1515     1\n",
       "1913-1915     1\n",
       "1747-1749     1\n",
       "1584          1\n",
       "Name: Year, Length: 656, dtype: int64"
      ]
     },
     "execution_count": 134,
     "metadata": {},
     "output_type": "execute_result"
    }
   ],
   "source": [
    "df.Year.value_counts()"
   ]
  },
  {
   "cell_type": "code",
   "execution_count": 135,
   "metadata": {},
   "outputs": [],
   "source": [
    "cat_1964 = df[(df.Year == '1964')]"
   ]
  },
  {
   "cell_type": "code",
   "execution_count": 136,
   "metadata": {},
   "outputs": [
    {
     "data": {
      "text/plain": [
       "20         Neo-Expressionism\n",
       "139             Art Informel\n",
       "174        Neo-Expressionism\n",
       "186               Minimalism\n",
       "205               Minimalism\n",
       "                ...         \n",
       "3828            Art Informel\n",
       "3893     Lyrical Abstraction\n",
       "3902    Color Field Painting\n",
       "4087                 Pop Art\n",
       "4096                 Pop Art\n",
       "Name: Category, Length: 81, dtype: object"
      ]
     },
     "execution_count": 136,
     "metadata": {},
     "output_type": "execute_result"
    }
   ],
   "source": [
    "cat_1964.Category"
   ]
  },
  {
   "cell_type": "code",
   "execution_count": 97,
   "metadata": {},
   "outputs": [
    {
     "data": {
      "text/plain": [
       "Category           Year           \n",
       "Neoclassicism      XVIII-XIX cent.    33\n",
       "Minimalism         1967               27\n",
       "Surrealism         1937               25\n",
       "Minimalism         1968               23\n",
       "                   1969               22\n",
       "                                      ..\n",
       "                   1967-1968           1\n",
       "                   1970                1\n",
       "Neo-Expressionism  1950                1\n",
       "                   1951                1\n",
       "Abstract Art       1883                1\n",
       "Length: 1219, dtype: int64"
      ]
     },
     "execution_count": 97,
     "metadata": {},
     "output_type": "execute_result"
    }
   ],
   "source": [
    "df[['Category','Year']].value_counts()\n"
   ]
  },
  {
   "cell_type": "code",
   "execution_count": 197,
   "metadata": {},
   "outputs": [
    {
     "data": {
      "text/html": [
       "<div>\n",
       "<style scoped>\n",
       "    .dataframe tbody tr th:only-of-type {\n",
       "        vertical-align: middle;\n",
       "    }\n",
       "\n",
       "    .dataframe tbody tr th {\n",
       "        vertical-align: top;\n",
       "    }\n",
       "\n",
       "    .dataframe thead th {\n",
       "        text-align: right;\n",
       "    }\n",
       "</style>\n",
       "<table border=\"1\" class=\"dataframe\">\n",
       "  <thead>\n",
       "    <tr style=\"text-align: right;\">\n",
       "      <th></th>\n",
       "      <th>id</th>\n",
       "      <th>accession_number</th>\n",
       "      <th>artist</th>\n",
       "      <th>artistRole</th>\n",
       "      <th>artistId</th>\n",
       "      <th>title</th>\n",
       "      <th>dateText</th>\n",
       "      <th>medium</th>\n",
       "      <th>creditLine</th>\n",
       "      <th>year</th>\n",
       "      <th>acquisitionYear</th>\n",
       "      <th>dimensions</th>\n",
       "      <th>width</th>\n",
       "      <th>height</th>\n",
       "      <th>depth</th>\n",
       "      <th>units</th>\n",
       "      <th>inscription</th>\n",
       "      <th>thumbnailCopyright</th>\n",
       "      <th>thumbnailUrl</th>\n",
       "      <th>url</th>\n",
       "    </tr>\n",
       "  </thead>\n",
       "  <tbody>\n",
       "    <tr>\n",
       "      <th>0</th>\n",
       "      <td>1035</td>\n",
       "      <td>A00001</td>\n",
       "      <td>Blake, Robert</td>\n",
       "      <td>artist</td>\n",
       "      <td>38</td>\n",
       "      <td>A Figure Bowing before a Seated Old Man with h...</td>\n",
       "      <td>date not known</td>\n",
       "      <td>Watercolour, ink, chalk and graphite on paper....</td>\n",
       "      <td>Presented by Mrs John Richmond 1922</td>\n",
       "      <td>NaN</td>\n",
       "      <td>1922.0</td>\n",
       "      <td>support: 394 x 419 mm</td>\n",
       "      <td>394.0</td>\n",
       "      <td>419.0</td>\n",
       "      <td>NaN</td>\n",
       "      <td>mm</td>\n",
       "      <td>NaN</td>\n",
       "      <td>NaN</td>\n",
       "      <td>http://www.tate.org.uk/art/images/work/A/A00/A...</td>\n",
       "      <td>http://www.tate.org.uk/art/artworks/blake-a-fi...</td>\n",
       "    </tr>\n",
       "    <tr>\n",
       "      <th>1</th>\n",
       "      <td>1036</td>\n",
       "      <td>A00002</td>\n",
       "      <td>Blake, Robert</td>\n",
       "      <td>artist</td>\n",
       "      <td>38</td>\n",
       "      <td>Two Drawings of Frightened Figures, Probably f...</td>\n",
       "      <td>date not known</td>\n",
       "      <td>Graphite on paper</td>\n",
       "      <td>Presented by Mrs John Richmond 1922</td>\n",
       "      <td>NaN</td>\n",
       "      <td>1922.0</td>\n",
       "      <td>support: 311 x 213 mm</td>\n",
       "      <td>311.0</td>\n",
       "      <td>213.0</td>\n",
       "      <td>NaN</td>\n",
       "      <td>mm</td>\n",
       "      <td>NaN</td>\n",
       "      <td>NaN</td>\n",
       "      <td>http://www.tate.org.uk/art/images/work/A/A00/A...</td>\n",
       "      <td>http://www.tate.org.uk/art/artworks/blake-two-...</td>\n",
       "    </tr>\n",
       "    <tr>\n",
       "      <th>2</th>\n",
       "      <td>1037</td>\n",
       "      <td>A00003</td>\n",
       "      <td>Blake, Robert</td>\n",
       "      <td>artist</td>\n",
       "      <td>38</td>\n",
       "      <td>The Preaching of Warning. Verso: An Old Man En...</td>\n",
       "      <td>?c.1785</td>\n",
       "      <td>Graphite on paper. Verso: graphite on paper</td>\n",
       "      <td>Presented by Mrs John Richmond 1922</td>\n",
       "      <td>1785.0</td>\n",
       "      <td>1922.0</td>\n",
       "      <td>support: 343 x 467 mm</td>\n",
       "      <td>343.0</td>\n",
       "      <td>467.0</td>\n",
       "      <td>NaN</td>\n",
       "      <td>mm</td>\n",
       "      <td>NaN</td>\n",
       "      <td>NaN</td>\n",
       "      <td>http://www.tate.org.uk/art/images/work/A/A00/A...</td>\n",
       "      <td>http://www.tate.org.uk/art/artworks/blake-the-...</td>\n",
       "    </tr>\n",
       "  </tbody>\n",
       "</table>\n",
       "</div>"
      ],
      "text/plain": [
       "     id accession_number         artist artistRole  artistId  \\\n",
       "0  1035           A00001  Blake, Robert     artist        38   \n",
       "1  1036           A00002  Blake, Robert     artist        38   \n",
       "2  1037           A00003  Blake, Robert     artist        38   \n",
       "\n",
       "                                               title        dateText  \\\n",
       "0  A Figure Bowing before a Seated Old Man with h...  date not known   \n",
       "1  Two Drawings of Frightened Figures, Probably f...  date not known   \n",
       "2  The Preaching of Warning. Verso: An Old Man En...         ?c.1785   \n",
       "\n",
       "                                              medium  \\\n",
       "0  Watercolour, ink, chalk and graphite on paper....   \n",
       "1                                  Graphite on paper   \n",
       "2        Graphite on paper. Verso: graphite on paper   \n",
       "\n",
       "                            creditLine    year  acquisitionYear  \\\n",
       "0  Presented by Mrs John Richmond 1922     NaN           1922.0   \n",
       "1  Presented by Mrs John Richmond 1922     NaN           1922.0   \n",
       "2  Presented by Mrs John Richmond 1922  1785.0           1922.0   \n",
       "\n",
       "              dimensions  width  height  depth units inscription  \\\n",
       "0  support: 394 x 419 mm  394.0   419.0    NaN    mm         NaN   \n",
       "1  support: 311 x 213 mm  311.0   213.0    NaN    mm         NaN   \n",
       "2  support: 343 x 467 mm  343.0   467.0    NaN    mm         NaN   \n",
       "\n",
       "   thumbnailCopyright                                       thumbnailUrl  \\\n",
       "0                 NaN  http://www.tate.org.uk/art/images/work/A/A00/A...   \n",
       "1                 NaN  http://www.tate.org.uk/art/images/work/A/A00/A...   \n",
       "2                 NaN  http://www.tate.org.uk/art/images/work/A/A00/A...   \n",
       "\n",
       "                                                 url  \n",
       "0  http://www.tate.org.uk/art/artworks/blake-a-fi...  \n",
       "1  http://www.tate.org.uk/art/artworks/blake-two-...  \n",
       "2  http://www.tate.org.uk/art/artworks/blake-the-...  "
      ]
     },
     "execution_count": 197,
     "metadata": {},
     "output_type": "execute_result"
    }
   ],
   "source": [
    "df1 = pd.read_csv(\"data/artwork.csv\")\n",
    "df1.head(3)"
   ]
  },
  {
   "cell_type": "code",
   "execution_count": 198,
   "metadata": {},
   "outputs": [
    {
     "name": "stdout",
     "output_type": "stream",
     "text": [
      "<class 'pandas.core.frame.DataFrame'>\n",
      "RangeIndex: 69201 entries, 0 to 69200\n",
      "Data columns (total 20 columns):\n",
      " #   Column              Non-Null Count  Dtype  \n",
      "---  ------              --------------  -----  \n",
      " 0   id                  69201 non-null  int64  \n",
      " 1   accession_number    69201 non-null  object \n",
      " 2   artist              69201 non-null  object \n",
      " 3   artistRole          69201 non-null  object \n",
      " 4   artistId            69201 non-null  int64  \n",
      " 5   title               69201 non-null  object \n",
      " 6   dateText            69201 non-null  object \n",
      " 7   medium              62817 non-null  object \n",
      " 8   creditLine          69198 non-null  object \n",
      " 9   year                63804 non-null  float64\n",
      " 10  acquisitionYear     69156 non-null  float64\n",
      " 11  dimensions          66768 non-null  object \n",
      " 12  width               65834 non-null  float64\n",
      " 13  height              65859 non-null  float64\n",
      " 14  depth               2514 non-null   float64\n",
      " 15  units               65860 non-null  object \n",
      " 16  inscription         6306 non-null   object \n",
      " 17  thumbnailCopyright  0 non-null      float64\n",
      " 18  thumbnailUrl        58415 non-null  object \n",
      " 19  url                 69201 non-null  object \n",
      "dtypes: float64(6), int64(2), object(12)\n",
      "memory usage: 10.6+ MB\n"
     ]
    }
   ],
   "source": [
    "df1.info()"
   ]
  },
  {
   "cell_type": "code",
   "execution_count": 199,
   "metadata": {},
   "outputs": [
    {
     "data": {
      "text/plain": [
       "(69201, 20)"
      ]
     },
     "execution_count": 199,
     "metadata": {},
     "output_type": "execute_result"
    }
   ],
   "source": [
    "df1.shape"
   ]
  },
  {
   "cell_type": "code",
   "execution_count": 215,
   "metadata": {},
   "outputs": [
    {
     "data": {
      "text/plain": [
       "Graphite on paper                                                   26127\n",
       "Oil paint on canvas                                                  3325\n",
       "Screenprint on paper                                                 2983\n",
       "Lithograph on paper                                                  2720\n",
       "Watercolour on paper                                                 1880\n",
       "                                                                    ...  \n",
       "Firebricks                                                              1\n",
       "Oil paint, tempera and metallic paint on canvas                         1\n",
       "Polyvinyl acetate paint and acrylic paint on foam on metal stand        1\n",
       "Polyester resin, fibreglass and steel                                   1\n",
       "Gallery lighting                                                        1\n",
       "Name: medium, Length: 3388, dtype: int64"
      ]
     },
     "execution_count": 215,
     "metadata": {},
     "output_type": "execute_result"
    }
   ],
   "source": [
    "df1.medium.value_counts()"
   ]
  },
  {
   "cell_type": "code",
   "execution_count": 200,
   "metadata": {},
   "outputs": [
    {
     "data": {
      "text/plain": [
       "artist                      66907\n",
       "after                        2014\n",
       "attributed to                 164\n",
       "manner of                      24\n",
       "pupil of                       18\n",
       "formerly attributed to         14\n",
       "and other artists              12\n",
       "prints after                   11\n",
       "pseudo                          8\n",
       "studio of                       7\n",
       "imitator of                     5\n",
       "and a pupil                     4\n",
       "school of                       4\n",
       "and assistants                  3\n",
       "follower of                     2\n",
       "doubtfully attributed to        1\n",
       "and studio                      1\n",
       "circle of                       1\n",
       "style of                        1\n",
       "Name: artistRole, dtype: int64"
      ]
     },
     "execution_count": 200,
     "metadata": {},
     "output_type": "execute_result"
    }
   ],
   "source": [
    "df1.artistRole.value_counts()"
   ]
  },
  {
   "cell_type": "code",
   "execution_count": 211,
   "metadata": {},
   "outputs": [],
   "source": [
    "df1.drop('thumbnailCopyright', axis =1, inplace=True)\n",
    "df1.drop(df1.loc[df1['artistRole']=='and a pupil'].index, inplace=True)\n",
    "df1.drop(df1.loc[df1['artistRole']=='after'].index, inplace=True)\n",
    "df1.drop(df1.loc[df1['artistRole']=='attributed to'].index, inplace=True)\n",
    "df1.drop(df1.loc[df1['artistRole']=='manner of'].index, inplace=True)\n",
    "df1.drop(df1.loc[df1['artistRole']=='pupil of'].index, inplace=True)\n",
    "df1.drop(df1.loc[df1['artistRole']=='formerly attributed to'].index, inplace=True)\n",
    "df1.drop(df1.loc[df1['artistRole']=='and other artists'].index, inplace=True)\n",
    "df1.drop(df1.loc[df1['artistRole']=='prints after'].index, inplace=True)\n",
    "df1.drop(df1.loc[df1['artistRole']=='pseudo'].index, inplace=True)\n",
    "df1.drop(df1.loc[df1['artistRole']=='studio of'].index, inplace=True)\n",
    "df1.drop(df1.loc[df1['artistRole']=='imitator of'].index, inplace=True)\n",
    "df1.drop(df1.loc[df1['artistRole']=='school of'].index, inplace=True)\n",
    "df1.drop(df1.loc[df1['artistRole']=='and assistants'].index, inplace=True)\n",
    "df1.drop(df1.loc[df1['artistRole']=='follower of'].index, inplace=True)\n",
    "df1.drop(df1.loc[df1['artistRole']=='doubtfully attributed to'].index, inplace=True)\n",
    "df1.drop(df1.loc[df1['artistRole']=='and studio'].index, inplace=True)\n",
    "df1.drop(df1.loc[df1['artistRole']=='circle of'].index, inplace=True)\n",
    "df1.drop(df1.loc[df1['artistRole']=='style of'].index, inplace=True)\n",
    "df1.drop('artistRole', axis =1, inplace=True)"
   ]
  },
  {
   "cell_type": "code",
   "execution_count": 212,
   "metadata": {},
   "outputs": [
    {
     "data": {
      "text/plain": [
       "(66907, 18)"
      ]
     },
     "execution_count": 212,
     "metadata": {},
     "output_type": "execute_result"
    }
   ],
   "source": [
    "df1.shape"
   ]
  },
  {
   "cell_type": "code",
   "execution_count": 213,
   "metadata": {},
   "outputs": [
    {
     "data": {
      "text/plain": [
       "Turner, Joseph Mallord William                                                                                              37930\n",
       "Jones, George                                                                                                                1046\n",
       "Moore, Henry, OM, CH                                                                                                          623\n",
       "Daniell, William                                                                                                              612\n",
       "Beuys, Joseph                                                                                                                 578\n",
       "                                                                                                                            ...  \n",
       "Hamilton, Anthea                                                                                                                1\n",
       "Porter, Liliana                                                                                                                 1\n",
       "Art & Language (Terry Atkinson, born 1939; David Bainbridge, born 1941; Michael Baldwin, born 1945; Harold Hurrell, born        1\n",
       "Art & Language (Harold Hurrell)                                                                                                 1\n",
       "Brunias, Agostino                                                                                                               1\n",
       "Name: artist, Length: 3275, dtype: int64"
      ]
     },
     "execution_count": 213,
     "metadata": {},
     "output_type": "execute_result"
    }
   ],
   "source": [
    "df1['artist'].value_counts()"
   ]
  },
  {
   "cell_type": "code",
   "execution_count": 207,
   "metadata": {},
   "outputs": [
    {
     "name": "stderr",
     "output_type": "stream",
     "text": [
      "/usr/local/python/lib/python3.10/site-packages/seaborn/_decorators.py:36: FutureWarning: Pass the following variables as keyword args: x, y. From version 0.12, the only valid positional argument will be `data`, and passing other arguments without an explicit keyword will result in an error or misinterpretation.\n"
     ]
    },
    {
     "data": {
      "image/png": "[encoded data removed]",
      "text/plain": [
       "<Figure size 864x504 with 1 Axes>"
      ]
     },
     "metadata": {
      "needs_background": "light"
     },
     "output_type": "display_data"
    }
   ],
   "source": [
    "# Plotting a bar graph of the artists with the most paintings in the dataset\n",
    "artist_values  = df1['artist'].value_counts()\n",
    "artist_count = artist_values[:6,]\n",
    "plt.figure(figsize=(12,7))\n",
    "sns.barplot(artist_count.index, artist_count.values, alpha=0.8, palette=\"cubehelix\")\n",
    "plt.title('Artists with the most number of Paintings')\n",
    "plt.ylabel('Count', fontsize=12)\n",
    "plt.xlabel('Artist', fontsize=12)\n",
    "plt.xticks(rotation=90)\n",
    "plt.show()"
   ]
  },
  {
   "cell_type": "code",
   "execution_count": null,
   "metadata": {},
   "outputs": [],
   "source": [
    "Modern = ['Impressionism','Pop Art', 'Neo-Expressionism', 'Art Informel', 'Post-Impressionism','Surrealism','Lyrical Abstraction',\n",
    "'Abstract Expressionism','Abstract Art','Cubism','Magic Realism']"
   ]
  },
  {
   "cell_type": "code",
   "execution_count": null,
   "metadata": {},
   "outputs": [],
   "source": [
    "Western = ['Realism','Northern Renaissance','Baroque', 'Rococo', 'Romanticism', 'Expressionism','Neoclassicism','Early Renaissance',\n",
    "'High Renaissance']"
   ]
  },
  {
   "cell_type": "code",
   "execution_count": null,
   "metadata": {},
   "outputs": [],
   "source": [
    "Contemporary = ['Minimalism' ]"
   ]
  },
  {
   "cell_type": "code",
   "execution_count": 81,
   "metadata": {},
   "outputs": [],
   "source": [
    "Modern_df = df[(df.Category =='Cubism') | (df.Category =='Impressionism') |(df.Category =='Surrealism') ]"
   ]
  },
  {
   "cell_type": "code",
   "execution_count": 82,
   "metadata": {},
   "outputs": [
    {
     "data": {
      "text/html": [
       "<div>\n",
       "<style scoped>\n",
       "    .dataframe tbody tr th:only-of-type {\n",
       "        vertical-align: middle;\n",
       "    }\n",
       "\n",
       "    .dataframe tbody tr th {\n",
       "        vertical-align: top;\n",
       "    }\n",
       "\n",
       "    .dataframe thead th {\n",
       "        text-align: right;\n",
       "    }\n",
       "</style>\n",
       "<table border=\"1\" class=\"dataframe\">\n",
       "  <thead>\n",
       "    <tr style=\"text-align: right;\">\n",
       "      <th></th>\n",
       "      <th>ID</th>\n",
       "      <th>Category</th>\n",
       "      <th>Artist</th>\n",
       "      <th>Title</th>\n",
       "      <th>Year</th>\n",
       "      <th>Image URL</th>\n",
       "      <th>Painting Info URL</th>\n",
       "      <th>Artist Info URL</th>\n",
       "    </tr>\n",
       "  </thead>\n",
       "  <tbody>\n",
       "    <tr>\n",
       "      <th>0</th>\n",
       "      <td>58c6237dedc2c9c7dc0de1ae</td>\n",
       "      <td>Impressionism</td>\n",
       "      <td>Charles Courtney Curran</td>\n",
       "      <td>In the Luxembourg Garden</td>\n",
       "      <td>1889</td>\n",
       "      <td>https://uploads3.wikiart.org/00123/images/char...</td>\n",
       "      <td>https://www.wikiart.org/en/charles-courtney-cu...</td>\n",
       "      <td>https://www.wikiart.org/en/charles-courtney-cu...</td>\n",
       "    </tr>\n",
       "    <tr>\n",
       "      <th>3</th>\n",
       "      <td>58d1240cedc2c94f900fc610</td>\n",
       "      <td>Cubism</td>\n",
       "      <td>Vadym Meller</td>\n",
       "      <td>Monk. For the Play &amp;#39;Mazeppa&amp;#39;</td>\n",
       "      <td>1920</td>\n",
       "      <td>https://uploads2.wikiart.org/00124/images/vady...</td>\n",
       "      <td>https://www.wikiart.org/en/vadym-meller/monk-f...</td>\n",
       "      <td>https://www.wikiart.org/en/vadym-meller</td>\n",
       "    </tr>\n",
       "    <tr>\n",
       "      <th>14</th>\n",
       "      <td>577284a7edc2cb3880fe813a</td>\n",
       "      <td>Cubism</td>\n",
       "      <td>Francis Picabia</td>\n",
       "      <td>Dances at the Spring</td>\n",
       "      <td>1912</td>\n",
       "      <td>https://uploads2.wikiart.org/images/francis-pi...</td>\n",
       "      <td>https://www.wikiart.org/en/francis-picabia/dan...</td>\n",
       "      <td>https://www.wikiart.org/en/francis-picabia</td>\n",
       "    </tr>\n",
       "    <tr>\n",
       "      <th>28</th>\n",
       "      <td>5772819cedc2cb3880f501c7</td>\n",
       "      <td>Surrealism</td>\n",
       "      <td>Eileen Agar</td>\n",
       "      <td>The Reaper</td>\n",
       "      <td>1938</td>\n",
       "      <td>https://uploads6.wikiart.org/images/eileen-aga...</td>\n",
       "      <td>https://www.wikiart.org/en/eileen-agar/the-rea...</td>\n",
       "      <td>https://www.wikiart.org/en/eileen-agar</td>\n",
       "    </tr>\n",
       "    <tr>\n",
       "      <th>44</th>\n",
       "      <td>57727f7bedc2cb3880ee1357</td>\n",
       "      <td>Cubism</td>\n",
       "      <td>Amadeo de Souza-Cardoso</td>\n",
       "      <td>Landscape</td>\n",
       "      <td>1912</td>\n",
       "      <td>https://uploads8.wikiart.org/images/amadeo-de-...</td>\n",
       "      <td>https://www.wikiart.org/en/amadeo-de-souza-car...</td>\n",
       "      <td>https://www.wikiart.org/en/amadeo-de-souza-car...</td>\n",
       "    </tr>\n",
       "    <tr>\n",
       "      <th>...</th>\n",
       "      <td>...</td>\n",
       "      <td>...</td>\n",
       "      <td>...</td>\n",
       "      <td>...</td>\n",
       "      <td>...</td>\n",
       "      <td>...</td>\n",
       "      <td>...</td>\n",
       "      <td>...</td>\n",
       "    </tr>\n",
       "    <tr>\n",
       "      <th>4039</th>\n",
       "      <td>577286e4edc2cb3880058bf0</td>\n",
       "      <td>Cubism</td>\n",
       "      <td>Wyndham Lewis</td>\n",
       "      <td>Creation Myth</td>\n",
       "      <td>1927</td>\n",
       "      <td>https://uploads2.wikiart.org/images/wyndham-le...</td>\n",
       "      <td>https://www.wikiart.org/en/wyndham-lewis/creat...</td>\n",
       "      <td>https://www.wikiart.org/en/wyndham-lewis</td>\n",
       "    </tr>\n",
       "    <tr>\n",
       "      <th>4046</th>\n",
       "      <td>57728401edc2cb3880fc8433</td>\n",
       "      <td>Impressionism</td>\n",
       "      <td>Marie Bracquemond</td>\n",
       "      <td>Woman with an Umbrella</td>\n",
       "      <td>1880</td>\n",
       "      <td>https://uploads6.wikiart.org/images/marie-brac...</td>\n",
       "      <td>https://www.wikiart.org/en/marie-bracquemond/w...</td>\n",
       "      <td>https://www.wikiart.org/en/marie-bracquemond</td>\n",
       "    </tr>\n",
       "    <tr>\n",
       "      <th>4081</th>\n",
       "      <td>57727dacedc2cb3880e872bb</td>\n",
       "      <td>Surrealism</td>\n",
       "      <td>Andre Masson</td>\n",
       "      <td>Pupae to Toledo</td>\n",
       "      <td>1935</td>\n",
       "      <td>https://uploads4.wikiart.org/images/andre-mass...</td>\n",
       "      <td>https://www.wikiart.org/en/andre-masson/no-nam...</td>\n",
       "      <td>https://www.wikiart.org/en/andre-masson</td>\n",
       "    </tr>\n",
       "    <tr>\n",
       "      <th>4091</th>\n",
       "      <td>57727dadedc2cb3880e8733b</td>\n",
       "      <td>Surrealism</td>\n",
       "      <td>Andre Masson</td>\n",
       "      <td>Iconic views of Toledo</td>\n",
       "      <td>1936</td>\n",
       "      <td>https://uploads4.wikiart.org/images/andre-mass...</td>\n",
       "      <td>https://www.wikiart.org/en/andre-masson/no-nam...</td>\n",
       "      <td>https://www.wikiart.org/en/andre-masson</td>\n",
       "    </tr>\n",
       "    <tr>\n",
       "      <th>4115</th>\n",
       "      <td>57728001edc2cb3880efddcf</td>\n",
       "      <td>Surrealism</td>\n",
       "      <td>Oscar Dominguez</td>\n",
       "      <td>M&amp;#225;quina de coser electro-sexual</td>\n",
       "      <td>1934</td>\n",
       "      <td>https://uploads4.wikiart.org/images/oscar-domi...</td>\n",
       "      <td>https://www.wikiart.org/en/oscar-dominguez/m-q...</td>\n",
       "      <td>https://www.wikiart.org/en/oscar-dominguez</td>\n",
       "    </tr>\n",
       "  </tbody>\n",
       "</table>\n",
       "<p>576 rows × 8 columns</p>\n",
       "</div>"
      ],
      "text/plain": [
       "                            ID       Category                   Artist  \\\n",
       "0     58c6237dedc2c9c7dc0de1ae  Impressionism  Charles Courtney Curran   \n",
       "3     58d1240cedc2c94f900fc610         Cubism             Vadym Meller   \n",
       "14    577284a7edc2cb3880fe813a         Cubism          Francis Picabia   \n",
       "28    5772819cedc2cb3880f501c7     Surrealism              Eileen Agar   \n",
       "44    57727f7bedc2cb3880ee1357         Cubism  Amadeo de Souza-Cardoso   \n",
       "...                        ...            ...                      ...   \n",
       "4039  577286e4edc2cb3880058bf0         Cubism            Wyndham Lewis   \n",
       "4046  57728401edc2cb3880fc8433  Impressionism        Marie Bracquemond   \n",
       "4081  57727dacedc2cb3880e872bb     Surrealism             Andre Masson   \n",
       "4091  57727dadedc2cb3880e8733b     Surrealism             Andre Masson   \n",
       "4115  57728001edc2cb3880efddcf     Surrealism          Oscar Dominguez   \n",
       "\n",
       "                                     Title  Year  \\\n",
       "0                 In the Luxembourg Garden  1889   \n",
       "3     Monk. For the Play &#39;Mazeppa&#39;  1920   \n",
       "14                    Dances at the Spring  1912   \n",
       "28                              The Reaper  1938   \n",
       "44                               Landscape  1912   \n",
       "...                                    ...   ...   \n",
       "4039                         Creation Myth  1927   \n",
       "4046                Woman with an Umbrella  1880   \n",
       "4081                       Pupae to Toledo  1935   \n",
       "4091                Iconic views of Toledo  1936   \n",
       "4115  M&#225;quina de coser electro-sexual  1934   \n",
       "\n",
       "                                              Image URL  \\\n",
       "0     https://uploads3.wikiart.org/00123/images/char...   \n",
       "3     https://uploads2.wikiart.org/00124/images/vady...   \n",
       "14    https://uploads2.wikiart.org/images/francis-pi...   \n",
       "28    https://uploads6.wikiart.org/images/eileen-aga...   \n",
       "44    https://uploads8.wikiart.org/images/amadeo-de-...   \n",
       "...                                                 ...   \n",
       "4039  https://uploads2.wikiart.org/images/wyndham-le...   \n",
       "4046  https://uploads6.wikiart.org/images/marie-brac...   \n",
       "4081  https://uploads4.wikiart.org/images/andre-mass...   \n",
       "4091  https://uploads4.wikiart.org/images/andre-mass...   \n",
       "4115  https://uploads4.wikiart.org/images/oscar-domi...   \n",
       "\n",
       "                                      Painting Info URL  \\\n",
       "0     https://www.wikiart.org/en/charles-courtney-cu...   \n",
       "3     https://www.wikiart.org/en/vadym-meller/monk-f...   \n",
       "14    https://www.wikiart.org/en/francis-picabia/dan...   \n",
       "28    https://www.wikiart.org/en/eileen-agar/the-rea...   \n",
       "44    https://www.wikiart.org/en/amadeo-de-souza-car...   \n",
       "...                                                 ...   \n",
       "4039  https://www.wikiart.org/en/wyndham-lewis/creat...   \n",
       "4046  https://www.wikiart.org/en/marie-bracquemond/w...   \n",
       "4081  https://www.wikiart.org/en/andre-masson/no-nam...   \n",
       "4091  https://www.wikiart.org/en/andre-masson/no-nam...   \n",
       "4115  https://www.wikiart.org/en/oscar-dominguez/m-q...   \n",
       "\n",
       "                                        Artist Info URL  \n",
       "0     https://www.wikiart.org/en/charles-courtney-cu...  \n",
       "3               https://www.wikiart.org/en/vadym-meller  \n",
       "14           https://www.wikiart.org/en/francis-picabia  \n",
       "28               https://www.wikiart.org/en/eileen-agar  \n",
       "44    https://www.wikiart.org/en/amadeo-de-souza-car...  \n",
       "...                                                 ...  \n",
       "4039           https://www.wikiart.org/en/wyndham-lewis  \n",
       "4046       https://www.wikiart.org/en/marie-bracquemond  \n",
       "4081            https://www.wikiart.org/en/andre-masson  \n",
       "4091            https://www.wikiart.org/en/andre-masson  \n",
       "4115         https://www.wikiart.org/en/oscar-dominguez  \n",
       "\n",
       "[576 rows x 8 columns]"
      ]
     },
     "execution_count": 82,
     "metadata": {},
     "output_type": "execute_result"
    }
   ],
   "source": [
    "Modern"
   ]
  },
  {
   "cell_type": "markdown",
   "metadata": {},
   "source": [
    "#### Data Exploring:"
   ]
  },
  {
   "cell_type": "code",
   "execution_count": 27,
   "metadata": {},
   "outputs": [
    {
     "data": {
      "text/plain": [
       "0"
      ]
     },
     "execution_count": 27,
     "metadata": {},
     "output_type": "execute_result"
    }
   ],
   "source": [
    "# check for duplicates\n",
    "df.duplicated().sum()"
   ]
  },
  {
   "cell_type": "code",
   "execution_count": 28,
   "metadata": {},
   "outputs": [
    {
     "data": {
      "text/plain": [
       "233881"
      ]
     },
     "execution_count": 28,
     "metadata": {},
     "output_type": "execute_result"
    }
   ],
   "source": [
    "# check for missing values\n",
    "df.isnull().sum().sum()"
   ]
  },
  {
   "cell_type": "code",
   "execution_count": 59,
   "metadata": {},
   "outputs": [
    {
     "data": {
      "text/plain": [
       "0"
      ]
     },
     "execution_count": 59,
     "metadata": {},
     "output_type": "execute_result"
    }
   ],
   "source": [
    "df1.isnull().sum().sum()"
   ]
  },
  {
   "cell_type": "code",
   "execution_count": 58,
   "metadata": {},
   "outputs": [
    {
     "data": {
      "text/html": [
       "<div>\n",
       "<style scoped>\n",
       "    .dataframe tbody tr th:only-of-type {\n",
       "        vertical-align: middle;\n",
       "    }\n",
       "\n",
       "    .dataframe tbody tr th {\n",
       "        vertical-align: top;\n",
       "    }\n",
       "\n",
       "    .dataframe thead th {\n",
       "        text-align: right;\n",
       "    }\n",
       "</style>\n",
       "<table border=\"1\" class=\"dataframe\">\n",
       "  <thead>\n",
       "    <tr style=\"text-align: right;\">\n",
       "      <th></th>\n",
       "      <th>ID</th>\n",
       "      <th>Category</th>\n",
       "      <th>Artist</th>\n",
       "      <th>Title</th>\n",
       "      <th>Year</th>\n",
       "      <th>Image URL</th>\n",
       "      <th>Painting Info URL</th>\n",
       "      <th>Artist Info URL</th>\n",
       "    </tr>\n",
       "  </thead>\n",
       "  <tbody>\n",
       "    <tr>\n",
       "      <th>count</th>\n",
       "      <td>4119</td>\n",
       "      <td>4119</td>\n",
       "      <td>4119</td>\n",
       "      <td>4119</td>\n",
       "      <td>4119</td>\n",
       "      <td>4119</td>\n",
       "      <td>4119</td>\n",
       "      <td>4119</td>\n",
       "    </tr>\n",
       "    <tr>\n",
       "      <th>unique</th>\n",
       "      <td>4119</td>\n",
       "      <td>46</td>\n",
       "      <td>1003</td>\n",
       "      <td>3764</td>\n",
       "      <td>656</td>\n",
       "      <td>4119</td>\n",
       "      <td>4119</td>\n",
       "      <td>1004</td>\n",
       "    </tr>\n",
       "    <tr>\n",
       "      <th>top</th>\n",
       "      <td>58c6237dedc2c9c7dc0de1ae</td>\n",
       "      <td>Realism</td>\n",
       "      <td>Eyvind Earle</td>\n",
       "      <td>Untitled</td>\n",
       "      <td>1964</td>\n",
       "      <td>https://uploads3.wikiart.org/00123/images/char...</td>\n",
       "      <td>https://www.wikiart.org/en/charles-courtney-cu...</td>\n",
       "      <td>https://www.wikiart.org/en/eyvind-earle</td>\n",
       "    </tr>\n",
       "    <tr>\n",
       "      <th>freq</th>\n",
       "      <td>1</td>\n",
       "      <td>200</td>\n",
       "      <td>31</td>\n",
       "      <td>141</td>\n",
       "      <td>81</td>\n",
       "      <td>1</td>\n",
       "      <td>1</td>\n",
       "      <td>31</td>\n",
       "    </tr>\n",
       "  </tbody>\n",
       "</table>\n",
       "</div>"
      ],
      "text/plain": [
       "                              ID Category        Artist     Title  Year  \\\n",
       "count                       4119     4119          4119      4119  4119   \n",
       "unique                      4119       46          1003      3764   656   \n",
       "top     58c6237dedc2c9c7dc0de1ae  Realism  Eyvind Earle  Untitled  1964   \n",
       "freq                           1      200            31       141    81   \n",
       "\n",
       "                                                Image URL  \\\n",
       "count                                                4119   \n",
       "unique                                               4119   \n",
       "top     https://uploads3.wikiart.org/00123/images/char...   \n",
       "freq                                                    1   \n",
       "\n",
       "                                        Painting Info URL  \\\n",
       "count                                                4119   \n",
       "unique                                               4119   \n",
       "top     https://www.wikiart.org/en/charles-courtney-cu...   \n",
       "freq                                                    1   \n",
       "\n",
       "                                Artist Info URL  \n",
       "count                                      4119  \n",
       "unique                                     1004  \n",
       "top     https://www.wikiart.org/en/eyvind-earle  \n",
       "freq                                         31  "
      ]
     },
     "execution_count": 58,
     "metadata": {},
     "output_type": "execute_result"
    }
   ],
   "source": [
    "#Summary Stats\n",
    "df1.describe()"
   ]
  },
  {
   "cell_type": "code",
   "execution_count": 57,
   "metadata": {},
   "outputs": [
    {
     "data": {
      "text/plain": [
       "{'ID': 4119,\n",
       " 'Category': 46,\n",
       " 'Artist': 1003,\n",
       " 'Title': 3764,\n",
       " 'Year': 656,\n",
       " 'Image URL': 4119,\n",
       " 'Painting Info URL': 4119,\n",
       " 'Artist Info URL': 1004}"
      ]
     },
     "execution_count": 57,
     "metadata": {},
     "output_type": "execute_result"
    }
   ],
   "source": [
    "{col:df1[col].nunique() for col in df1}"
   ]
  },
  {
   "cell_type": "markdown",
   "metadata": {},
   "source": [
    "#### Checking for Multicollinearity"
   ]
  },
  {
   "cell_type": "code",
   "execution_count": 56,
   "metadata": {},
   "outputs": [
    {
     "data": {
      "text/html": [
       "<div>\n",
       "<style scoped>\n",
       "    .dataframe tbody tr th:only-of-type {\n",
       "        vertical-align: middle;\n",
       "    }\n",
       "\n",
       "    .dataframe tbody tr th {\n",
       "        vertical-align: top;\n",
       "    }\n",
       "\n",
       "    .dataframe thead th {\n",
       "        text-align: right;\n",
       "    }\n",
       "</style>\n",
       "<table border=\"1\" class=\"dataframe\">\n",
       "  <thead>\n",
       "    <tr style=\"text-align: right;\">\n",
       "      <th></th>\n",
       "      <th>id</th>\n",
       "      <th>artistId</th>\n",
       "      <th>year</th>\n",
       "      <th>acquisitionYear</th>\n",
       "      <th>width</th>\n",
       "      <th>height</th>\n",
       "      <th>depth</th>\n",
       "    </tr>\n",
       "  </thead>\n",
       "  <tbody>\n",
       "    <tr>\n",
       "      <th>id</th>\n",
       "      <td>1.000000</td>\n",
       "      <td>0.418521</td>\n",
       "      <td>0.025067</td>\n",
       "      <td>-0.139811</td>\n",
       "      <td>-0.111952</td>\n",
       "      <td>-0.104898</td>\n",
       "      <td>-0.039888</td>\n",
       "    </tr>\n",
       "    <tr>\n",
       "      <th>artistId</th>\n",
       "      <td>0.418521</td>\n",
       "      <td>1.000000</td>\n",
       "      <td>0.508052</td>\n",
       "      <td>0.448369</td>\n",
       "      <td>0.215947</td>\n",
       "      <td>0.167227</td>\n",
       "      <td>0.006029</td>\n",
       "    </tr>\n",
       "    <tr>\n",
       "      <th>year</th>\n",
       "      <td>0.025067</td>\n",
       "      <td>0.508052</td>\n",
       "      <td>1.000000</td>\n",
       "      <td>0.816581</td>\n",
       "      <td>0.487440</td>\n",
       "      <td>0.383214</td>\n",
       "      <td>0.162612</td>\n",
       "    </tr>\n",
       "    <tr>\n",
       "      <th>acquisitionYear</th>\n",
       "      <td>-0.139811</td>\n",
       "      <td>0.448369</td>\n",
       "      <td>0.816581</td>\n",
       "      <td>1.000000</td>\n",
       "      <td>0.422799</td>\n",
       "      <td>0.335742</td>\n",
       "      <td>0.034133</td>\n",
       "    </tr>\n",
       "    <tr>\n",
       "      <th>width</th>\n",
       "      <td>-0.111952</td>\n",
       "      <td>0.215947</td>\n",
       "      <td>0.487440</td>\n",
       "      <td>0.422799</td>\n",
       "      <td>1.000000</td>\n",
       "      <td>0.725322</td>\n",
       "      <td>0.198728</td>\n",
       "    </tr>\n",
       "    <tr>\n",
       "      <th>height</th>\n",
       "      <td>-0.104898</td>\n",
       "      <td>0.167227</td>\n",
       "      <td>0.383214</td>\n",
       "      <td>0.335742</td>\n",
       "      <td>0.725322</td>\n",
       "      <td>1.000000</td>\n",
       "      <td>0.393222</td>\n",
       "    </tr>\n",
       "    <tr>\n",
       "      <th>depth</th>\n",
       "      <td>-0.039888</td>\n",
       "      <td>0.006029</td>\n",
       "      <td>0.162612</td>\n",
       "      <td>0.034133</td>\n",
       "      <td>0.198728</td>\n",
       "      <td>0.393222</td>\n",
       "      <td>1.000000</td>\n",
       "    </tr>\n",
       "  </tbody>\n",
       "</table>\n",
       "</div>"
      ],
      "text/plain": [
       "                       id  artistId      year  acquisitionYear     width  \\\n",
       "id               1.000000  0.418521  0.025067        -0.139811 -0.111952   \n",
       "artistId         0.418521  1.000000  0.508052         0.448369  0.215947   \n",
       "year             0.025067  0.508052  1.000000         0.816581  0.487440   \n",
       "acquisitionYear -0.139811  0.448369  0.816581         1.000000  0.422799   \n",
       "width           -0.111952  0.215947  0.487440         0.422799  1.000000   \n",
       "height          -0.104898  0.167227  0.383214         0.335742  0.725322   \n",
       "depth           -0.039888  0.006029  0.162612         0.034133  0.198728   \n",
       "\n",
       "                   height     depth  \n",
       "id              -0.104898 -0.039888  \n",
       "artistId         0.167227  0.006029  \n",
       "year             0.383214  0.162612  \n",
       "acquisitionYear  0.335742  0.034133  \n",
       "width            0.725322  0.198728  \n",
       "height           1.000000  0.393222  \n",
       "depth            0.393222  1.000000  "
      ]
     },
     "execution_count": 56,
     "metadata": {},
     "output_type": "execute_result"
    }
   ],
   "source": [
    "#check the corrolation\n",
    "df.corr()"
   ]
  }
 ],
 "metadata": {
  "interpreter": {
   "hash": "d56e20087258be1dae39aa9f194b8314ac315bc35be12cc01beab0d61256e8ed"
  },
  "kernelspec": {
   "display_name": "Python 3.10.1 64-bit",
   "language": "python",
   "name": "python3"
  },
  "language_info": {
   "codemirror_mode": {
    "name": "ipython",
    "version": 3
   },
   "file_extension": ".py",
   "mimetype": "text/x-python",
   "name": "python",
   "nbconvert_exporter": "python",
   "pygments_lexer": "ipython3",
   "version": "3.10.2"
  },
  "orig_nbformat": 4
 },
 "nbformat": 4,
 "nbformat_minor": 2
}
