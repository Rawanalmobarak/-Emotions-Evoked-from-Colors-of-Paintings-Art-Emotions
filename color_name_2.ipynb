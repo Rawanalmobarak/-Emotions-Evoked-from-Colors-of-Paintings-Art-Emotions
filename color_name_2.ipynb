{
 "cells": [
  {
   "cell_type": "markdown",
   "metadata": {},
   "source": [
    "#### Import libraries and read files"
   ]
  },
  {
   "cell_type": "code",
   "execution_count": 15,
   "metadata": {},
   "outputs": [],
   "source": [
    "# import libraries\n",
    "import pandas as pd\n",
    "import numpy as np\n",
    "import matplotlib.pyplot as plt\n",
    "import seaborn as sns\n",
    "from plotnine import ggplot, aes, geom_density, geom_line, geom_point, ggtitle\n",
    "from sklearn.neighbors import LocalOutlierFactor #Outliar handling\n",
    "import webcolors\n",
    "import ast"
   ]
  },
  {
   "cell_type": "code",
   "execution_count": 2,
   "metadata": {},
   "outputs": [
    {
     "data": {
      "text/html": [
       "<div>\n",
       "<style scoped>\n",
       "    .dataframe tbody tr th:only-of-type {\n",
       "        vertical-align: middle;\n",
       "    }\n",
       "\n",
       "    .dataframe tbody tr th {\n",
       "        vertical-align: top;\n",
       "    }\n",
       "\n",
       "    .dataframe thead th {\n",
       "        text-align: right;\n",
       "    }\n",
       "</style>\n",
       "<table border=\"1\" class=\"dataframe\">\n",
       "  <thead>\n",
       "    <tr style=\"text-align: right;\">\n",
       "      <th></th>\n",
       "      <th>ID</th>\n",
       "      <th>Category</th>\n",
       "      <th>Artist</th>\n",
       "      <th>Title</th>\n",
       "      <th>Year</th>\n",
       "      <th>Image URL</th>\n",
       "      <th>Painting Info URL</th>\n",
       "      <th>Artist Info URL</th>\n",
       "      <th>dcolor</th>\n",
       "      <th>rgb</th>\n",
       "      <th>palette</th>\n",
       "    </tr>\n",
       "  </thead>\n",
       "  <tbody>\n",
       "    <tr>\n",
       "      <th>0</th>\n",
       "      <td>58c6237dedc2c9c7dc0de1ae</td>\n",
       "      <td>Impressionism</td>\n",
       "      <td>Charles Courtney Curran</td>\n",
       "      <td>In the Luxembourg Garden</td>\n",
       "      <td>1889</td>\n",
       "      <td>https://uploads3.wikiart.org/00123/images/char...</td>\n",
       "      <td>https://www.wikiart.org/en/charles-courtney-cu...</td>\n",
       "      <td>https://www.wikiart.org/en/charles-courtney-cu...</td>\n",
       "      <td>(43, 46, 20)</td>\n",
       "      <td>[(63, 64, 26), (191, 169, 126), (152, 157, 117...</td>\n",
       "      <td>['darkolivegreen', 'darkkhaki', 'gray', 'gray']</td>\n",
       "    </tr>\n",
       "    <tr>\n",
       "      <th>1</th>\n",
       "      <td>577280dfedc2cb3880f28e76</td>\n",
       "      <td>Neo-Expressionism</td>\n",
       "      <td>Keith Haring</td>\n",
       "      <td>The Marriage of Heaven and Hell</td>\n",
       "      <td>1984</td>\n",
       "      <td>https://uploads1.wikiart.org/images/keith-hari...</td>\n",
       "      <td>https://www.wikiart.org/en/keith-haring/the-ma...</td>\n",
       "      <td>https://www.wikiart.org/en/keith-haring</td>\n",
       "      <td>(29, 26, 22)</td>\n",
       "      <td>[(214, 211, 207), (30, 27, 23), (103, 96, 91),...</td>\n",
       "      <td>['lightgray', 'black', 'dimgray', 'dimgray']</td>\n",
       "    </tr>\n",
       "    <tr>\n",
       "      <th>2</th>\n",
       "      <td>57727f2dedc2cb3880ed5fa9</td>\n",
       "      <td>Post-Impressionism</td>\n",
       "      <td>Jozsef Rippl-Ronai</td>\n",
       "      <td>Uncle Piacsek in front of the Black Sideboard</td>\n",
       "      <td>1906</td>\n",
       "      <td>https://uploads3.wikiart.org/images/j-zsef-rip...</td>\n",
       "      <td>https://www.wikiart.org/en/jozsef-rippl-ronai/...</td>\n",
       "      <td>https://www.wikiart.org/en/jozsef-rippl-ronai</td>\n",
       "      <td>(133, 105, 104)</td>\n",
       "      <td>[(171, 140, 113), (39, 38, 43), (183, 184, 213...</td>\n",
       "      <td>['rosybrown', 'darkslategray', 'lightsteelblue...</td>\n",
       "    </tr>\n",
       "    <tr>\n",
       "      <th>3</th>\n",
       "      <td>58d1240cedc2c94f900fc610</td>\n",
       "      <td>Cubism</td>\n",
       "      <td>Vadym Meller</td>\n",
       "      <td>Monk. For the Play &amp;#39;Mazeppa&amp;#39;</td>\n",
       "      <td>1920</td>\n",
       "      <td>https://uploads2.wikiart.org/00124/images/vady...</td>\n",
       "      <td>https://www.wikiart.org/en/vadym-meller/monk-f...</td>\n",
       "      <td>https://www.wikiart.org/en/vadym-meller</td>\n",
       "      <td>(214, 173, 116)</td>\n",
       "      <td>[(217, 175, 117), (101, 79, 57), (118, 104, 79...</td>\n",
       "      <td>['burlywood', 'darkolivegreen', 'dimgray', 'li...</td>\n",
       "    </tr>\n",
       "    <tr>\n",
       "      <th>4</th>\n",
       "      <td>57727de7edc2cb3880e91f26</td>\n",
       "      <td>Romanticism</td>\n",
       "      <td>David Wilkie</td>\n",
       "      <td>The Defence of Sarago&amp;#231;a</td>\n",
       "      <td>1828</td>\n",
       "      <td>https://uploads6.wikiart.org/images/david-wilk...</td>\n",
       "      <td>https://www.wikiart.org/en/david-wilkie/the-de...</td>\n",
       "      <td>https://www.wikiart.org/en/david-wilkie</td>\n",
       "      <td>(199, 174, 138)</td>\n",
       "      <td>[(57, 44, 35), (199, 174, 138), (160, 154, 148...</td>\n",
       "      <td>['darkslategray', 'tan', 'darkgray', 'gray']</td>\n",
       "    </tr>\n",
       "  </tbody>\n",
       "</table>\n",
       "</div>"
      ],
      "text/plain": [
       "                         ID            Category                   Artist  \\\n",
       "0  58c6237dedc2c9c7dc0de1ae       Impressionism  Charles Courtney Curran   \n",
       "1  577280dfedc2cb3880f28e76   Neo-Expressionism             Keith Haring   \n",
       "2  57727f2dedc2cb3880ed5fa9  Post-Impressionism       Jozsef Rippl-Ronai   \n",
       "3  58d1240cedc2c94f900fc610              Cubism             Vadym Meller   \n",
       "4  57727de7edc2cb3880e91f26         Romanticism             David Wilkie   \n",
       "\n",
       "                                           Title  Year  \\\n",
       "0                       In the Luxembourg Garden  1889   \n",
       "1                The Marriage of Heaven and Hell  1984   \n",
       "2  Uncle Piacsek in front of the Black Sideboard  1906   \n",
       "3           Monk. For the Play &#39;Mazeppa&#39;  1920   \n",
       "4                   The Defence of Sarago&#231;a  1828   \n",
       "\n",
       "                                           Image URL  \\\n",
       "0  https://uploads3.wikiart.org/00123/images/char...   \n",
       "1  https://uploads1.wikiart.org/images/keith-hari...   \n",
       "2  https://uploads3.wikiart.org/images/j-zsef-rip...   \n",
       "3  https://uploads2.wikiart.org/00124/images/vady...   \n",
       "4  https://uploads6.wikiart.org/images/david-wilk...   \n",
       "\n",
       "                                   Painting Info URL  \\\n",
       "0  https://www.wikiart.org/en/charles-courtney-cu...   \n",
       "1  https://www.wikiart.org/en/keith-haring/the-ma...   \n",
       "2  https://www.wikiart.org/en/jozsef-rippl-ronai/...   \n",
       "3  https://www.wikiart.org/en/vadym-meller/monk-f...   \n",
       "4  https://www.wikiart.org/en/david-wilkie/the-de...   \n",
       "\n",
       "                                     Artist Info URL           dcolor  \\\n",
       "0  https://www.wikiart.org/en/charles-courtney-cu...     (43, 46, 20)   \n",
       "1            https://www.wikiart.org/en/keith-haring     (29, 26, 22)   \n",
       "2      https://www.wikiart.org/en/jozsef-rippl-ronai  (133, 105, 104)   \n",
       "3            https://www.wikiart.org/en/vadym-meller  (214, 173, 116)   \n",
       "4            https://www.wikiart.org/en/david-wilkie  (199, 174, 138)   \n",
       "\n",
       "                                                 rgb  \\\n",
       "0  [(63, 64, 26), (191, 169, 126), (152, 157, 117...   \n",
       "1  [(214, 211, 207), (30, 27, 23), (103, 96, 91),...   \n",
       "2  [(171, 140, 113), (39, 38, 43), (183, 184, 213...   \n",
       "3  [(217, 175, 117), (101, 79, 57), (118, 104, 79...   \n",
       "4  [(57, 44, 35), (199, 174, 138), (160, 154, 148...   \n",
       "\n",
       "                                             palette  \n",
       "0    ['darkolivegreen', 'darkkhaki', 'gray', 'gray']  \n",
       "1       ['lightgray', 'black', 'dimgray', 'dimgray']  \n",
       "2  ['rosybrown', 'darkslategray', 'lightsteelblue...  \n",
       "3  ['burlywood', 'darkolivegreen', 'dimgray', 'li...  \n",
       "4       ['darkslategray', 'tan', 'darkgray', 'gray']  "
      ]
     },
     "execution_count": 2,
     "metadata": {},
     "output_type": "execute_result"
    }
   ],
   "source": [
    "df = pd.read_csv(\"data/images_colors_updated.csv\")\n",
    "df.head()"
   ]
  },
  {
   "cell_type": "code",
   "execution_count": 3,
   "metadata": {},
   "outputs": [],
   "source": [
    "def closest_color(requested_color):\n",
    "    min_colours = {}\n",
    "    for key, name in webcolors.CSS3_HEX_TO_NAMES.items():\n",
    "        r_c, g_c, b_c = webcolors.hex_to_rgb(key)\n",
    "        rd = (r_c - requested_color[0]) ** 2\n",
    "        gd = (g_c - requested_color[1]) ** 2\n",
    "        bd = (b_c - requested_color[2]) ** 2\n",
    "        min_colours[(rd + gd + bd)] = name\n",
    "    return min_colours[min(min_colours.keys())]"
   ]
  },
  {
   "cell_type": "code",
   "execution_count": 4,
   "metadata": {},
   "outputs": [],
   "source": [
    "def get_color_name(requested_colour):\n",
    "    try:\n",
    "        closest_name = actual_name = webcolors.rgb_to_name(requested_colour)\n",
    "    except ValueError:\n",
    "        closest_name = closest_color(requested_colour)\n",
    "        actual_name = None\n",
    "    if (actual_name == None):\n",
    "        return closest_name\n",
    "    else:\n",
    "        return actual_name"
   ]
  },
  {
   "cell_type": "code",
   "execution_count": 5,
   "metadata": {},
   "outputs": [
    {
     "name": "stderr",
     "output_type": "stream",
     "text": [
      "/tmp/ipykernel_31981/1291952632.py:2: TqdmDeprecationWarning: This function will be removed in tqdm==5.0.0\n",
      "Please use `tqdm.notebook.tqdm` instead of `tqdm.tqdm_notebook`\n"
     ]
    },
    {
     "data": {
      "application/vnd.jupyter.widget-view+json": {
       "model_id": "46f63f7fff824f02a457f1da02ef75d4",
       "version_major": 2,
       "version_minor": 0
      },
      "text/plain": [
       "0it [00:00, ?it/s]"
      ]
     },
     "metadata": {},
     "output_type": "display_data"
    }
   ],
   "source": [
    "from tqdm import tqdm, tqdm_notebook\n",
    "tqdm_notebook().pandas()"
   ]
  },
  {
   "cell_type": "code",
   "execution_count": 17,
   "metadata": {},
   "outputs": [
    {
     "data": {
      "text/plain": [
       "tuple"
      ]
     },
     "execution_count": 17,
     "metadata": {},
     "output_type": "execute_result"
    }
   ],
   "source": [
    "type(df['dcolor'][0])"
   ]
  },
  {
   "cell_type": "code",
   "execution_count": 16,
   "metadata": {},
   "outputs": [],
   "source": [
    "df['dcolor'] = df['dcolor'].apply(ast.literal_eval)"
   ]
  },
  {
   "cell_type": "code",
   "execution_count": 18,
   "metadata": {},
   "outputs": [
    {
     "data": {
      "application/vnd.jupyter.widget-view+json": {
       "model_id": "7c7ac2cf242a4a5faed2d389a4bd7759",
       "version_major": 2,
       "version_minor": 0
      },
      "text/plain": [
       "  0%|          | 0/4105 [00:00<?, ?it/s]"
      ]
     },
     "metadata": {},
     "output_type": "display_data"
    }
   ],
   "source": [
    "df['dcname'] = df['dcolor'].progress_apply(get_color_name)"
   ]
  },
  {
   "cell_type": "code",
   "execution_count": 21,
   "metadata": {},
   "outputs": [
    {
     "data": {
      "text/html": [
       "<div>\n",
       "<style scoped>\n",
       "    .dataframe tbody tr th:only-of-type {\n",
       "        vertical-align: middle;\n",
       "    }\n",
       "\n",
       "    .dataframe tbody tr th {\n",
       "        vertical-align: top;\n",
       "    }\n",
       "\n",
       "    .dataframe thead th {\n",
       "        text-align: right;\n",
       "    }\n",
       "</style>\n",
       "<table border=\"1\" class=\"dataframe\">\n",
       "  <thead>\n",
       "    <tr style=\"text-align: right;\">\n",
       "      <th></th>\n",
       "      <th>ID</th>\n",
       "      <th>Category</th>\n",
       "      <th>Artist</th>\n",
       "      <th>Title</th>\n",
       "      <th>Year</th>\n",
       "      <th>Image URL</th>\n",
       "      <th>Painting Info URL</th>\n",
       "      <th>Artist Info URL</th>\n",
       "      <th>dcolor</th>\n",
       "      <th>rgb</th>\n",
       "      <th>palette</th>\n",
       "      <th>dcname</th>\n",
       "    </tr>\n",
       "  </thead>\n",
       "  <tbody>\n",
       "    <tr>\n",
       "      <th>0</th>\n",
       "      <td>58c6237dedc2c9c7dc0de1ae</td>\n",
       "      <td>Impressionism</td>\n",
       "      <td>Charles Courtney Curran</td>\n",
       "      <td>In the Luxembourg Garden</td>\n",
       "      <td>1889</td>\n",
       "      <td>https://uploads3.wikiart.org/00123/images/char...</td>\n",
       "      <td>https://www.wikiart.org/en/charles-courtney-cu...</td>\n",
       "      <td>https://www.wikiart.org/en/charles-courtney-cu...</td>\n",
       "      <td>(43, 46, 20)</td>\n",
       "      <td>[(63, 64, 26), (191, 169, 126), (152, 157, 117...</td>\n",
       "      <td>['darkolivegreen', 'darkkhaki', 'gray', 'gray']</td>\n",
       "      <td>black</td>\n",
       "    </tr>\n",
       "    <tr>\n",
       "      <th>1</th>\n",
       "      <td>577280dfedc2cb3880f28e76</td>\n",
       "      <td>Neo-Expressionism</td>\n",
       "      <td>Keith Haring</td>\n",
       "      <td>The Marriage of Heaven and Hell</td>\n",
       "      <td>1984</td>\n",
       "      <td>https://uploads1.wikiart.org/images/keith-hari...</td>\n",
       "      <td>https://www.wikiart.org/en/keith-haring/the-ma...</td>\n",
       "      <td>https://www.wikiart.org/en/keith-haring</td>\n",
       "      <td>(29, 26, 22)</td>\n",
       "      <td>[(214, 211, 207), (30, 27, 23), (103, 96, 91),...</td>\n",
       "      <td>['lightgray', 'black', 'dimgray', 'dimgray']</td>\n",
       "      <td>black</td>\n",
       "    </tr>\n",
       "  </tbody>\n",
       "</table>\n",
       "</div>"
      ],
      "text/plain": [
       "                         ID           Category                   Artist  \\\n",
       "0  58c6237dedc2c9c7dc0de1ae      Impressionism  Charles Courtney Curran   \n",
       "1  577280dfedc2cb3880f28e76  Neo-Expressionism             Keith Haring   \n",
       "\n",
       "                             Title  Year  \\\n",
       "0         In the Luxembourg Garden  1889   \n",
       "1  The Marriage of Heaven and Hell  1984   \n",
       "\n",
       "                                           Image URL  \\\n",
       "0  https://uploads3.wikiart.org/00123/images/char...   \n",
       "1  https://uploads1.wikiart.org/images/keith-hari...   \n",
       "\n",
       "                                   Painting Info URL  \\\n",
       "0  https://www.wikiart.org/en/charles-courtney-cu...   \n",
       "1  https://www.wikiart.org/en/keith-haring/the-ma...   \n",
       "\n",
       "                                     Artist Info URL        dcolor  \\\n",
       "0  https://www.wikiart.org/en/charles-courtney-cu...  (43, 46, 20)   \n",
       "1            https://www.wikiart.org/en/keith-haring  (29, 26, 22)   \n",
       "\n",
       "                                                 rgb  \\\n",
       "0  [(63, 64, 26), (191, 169, 126), (152, 157, 117...   \n",
       "1  [(214, 211, 207), (30, 27, 23), (103, 96, 91),...   \n",
       "\n",
       "                                           palette dcname  \n",
       "0  ['darkolivegreen', 'darkkhaki', 'gray', 'gray']  black  \n",
       "1     ['lightgray', 'black', 'dimgray', 'dimgray']  black  "
      ]
     },
     "execution_count": 21,
     "metadata": {},
     "output_type": "execute_result"
    }
   ],
   "source": [
    "df.head(2)"
   ]
  },
  {
   "cell_type": "code",
   "execution_count": null,
   "metadata": {},
   "outputs": [],
   "source": []
  }
 ],
 "metadata": {
  "interpreter": {
   "hash": "d56e20087258be1dae39aa9f194b8314ac315bc35be12cc01beab0d61256e8ed"
  },
  "kernelspec": {
   "display_name": "Python 3.10.1 64-bit",
   "language": "python",
   "name": "python3"
  },
  "language_info": {
   "codemirror_mode": {
    "name": "ipython",
    "version": 3
   },
   "file_extension": ".py",
   "mimetype": "text/x-python",
   "name": "python",
   "nbconvert_exporter": "python",
   "pygments_lexer": "ipython3",
   "version": "3.9.7"
  },
  "orig_nbformat": 4
 },
 "nbformat": 4,
 "nbformat_minor": 2
}
