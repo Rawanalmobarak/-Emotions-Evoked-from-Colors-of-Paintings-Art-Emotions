{
 "cells": [
  {
   "cell_type": "markdown",
   "metadata": {},
   "source": [
    "# **Painting Dataset**\n",
    "\n",
    "### **Data Description:**\n",
    "\n",
    "\n",
    "\n",
    "### **Data Content:**\n",
    "\n",
    "\n",
    "### **Data Dictionary:**\n",
    "\n",
    "- ID = \n",
    "- Category = \n",
    "- Artist = \n",
    "- Title = \n",
    "- Year = \n",
    "- Image URL = \n",
    "- Painting Info URLe =\n",
    "- Artist Info URL = \n",
    "\n",
    "\n"
   ]
  },
  {
   "cell_type": "markdown",
   "metadata": {},
   "source": [
    "#### Import libraries "
   ]
  },
  {
   "cell_type": "code",
   "execution_count": 8,
   "metadata": {},
   "outputs": [],
   "source": [
    "# import libraries\n",
    "from colorthief import ColorThief\n",
    "from urllib.request import urlopen\n",
    "import webcolors\n",
    "import io\n",
    "import pandas as pd\n",
    "import numpy as np\n",
    "\n",
    "# import libraries\n",
    "import pandas as pd\n",
    "import numpy as np\n",
    "import matplotlib.pyplot as plt\n",
    "import seaborn as sns\n",
    "from plotnine import ggplot, aes, geom_density, geom_line, geom_point, ggtitle\n",
    "from sklearn.neighbors import LocalOutlierFactor #Outliar handling\n",
    "\n",
    "# Modeling process\n",
    "from sklearn.model_selection import train_test_split, KFold, RepeatedKFold, cross_val_score\n",
    "from sklearn.model_selection import GridSearchCV\n",
    "from colorthief import ColorThief\n",
    "import webcolors\n"
   ]
  },
  {
   "cell_type": "code",
   "execution_count": 2,
   "metadata": {},
   "outputs": [],
   "source": [
    "\n",
    "# method to get dominant color from image URL\n",
    "def get_dominant_color(url):\n",
    "  \"\"\"Given an image in url format, eturn the dominant color.\"\"\"\n",
    "  try:\n",
    "    img = urlopen(url)\n",
    "    f = io.BytesIO(img.read())\n",
    "    color_thief = ColorThief(f)\n",
    "    color = color_thief.get_color(quality=1)\n",
    "    return color\n",
    "  except:\n",
    "    return np.NaN \n",
    "\n"
   ]
  },
  {
   "cell_type": "code",
   "execution_count": 4,
   "metadata": {},
   "outputs": [
    {
     "data": {
      "text/plain": [
       "(214, 173, 116)"
      ]
     },
     "execution_count": 4,
     "metadata": {},
     "output_type": "execute_result"
    }
   ],
   "source": [
    "link = \"https://uploads2.wikiart.org/00124/images/vadym-meller/monk-for-the-play-mazeppa-1920.jpg\"\n",
    "dominant_color= get_dominant_color(link)\n",
    "dominant_color"
   ]
  },
  {
   "cell_type": "code",
   "execution_count": 5,
   "metadata": {},
   "outputs": [
    {
     "data": {
      "text/plain": [
       "'#D6AD74'"
      ]
     },
     "execution_count": 5,
     "metadata": {},
     "output_type": "execute_result"
    }
   ],
   "source": [
    "from colormap import rgb2hex\n",
    "\n",
    "hex = rgb2hex(dominant_color[0], dominant_color[1],dominant_color[2])\n",
    "hex\n"
   ]
  },
  {
   "cell_type": "code",
   "execution_count": 9,
   "metadata": {},
   "outputs": [],
   "source": [
    "def closest_color(requested_color):\n",
    "    min_colours = {}\n",
    "    for key, name in webcolors.CSS3_HEX_TO_NAMES.items():\n",
    "        r_c, g_c, b_c = webcolors.hex_to_rgb(key)\n",
    "        rd = (r_c - requested_color[0]) ** 2\n",
    "        gd = (g_c - requested_color[1]) ** 2\n",
    "        bd = (b_c - requested_color[2]) ** 2\n",
    "        min_colours[(rd + gd + bd)] = name\n",
    "    return min_colours[min(min_colours.keys())]"
   ]
  },
  {
   "cell_type": "code",
   "execution_count": 10,
   "metadata": {},
   "outputs": [
    {
     "name": "stdout",
     "output_type": "stream",
     "text": [
      "Actual colour name: None , closest colour name: burlywood\n"
     ]
    }
   ],
   "source": [
    "def get_color_name(requested_colour):\n",
    "    try:\n",
    "        closest_name = actual_name = webcolors.rgb_to_name(requested_colour)\n",
    "    except ValueError:\n",
    "        closest_name = closest_color(requested_colour)\n",
    "        actual_name = None\n",
    "    return actual_name, closest_name\n",
    "\n",
    "requested_colour = (dominant_color)\n",
    "actual_name, closest_name = get_color_name(requested_colour)\n",
    "\n",
    "print(\"Actual colour name:\", actual_name, \", closest colour name:\", closest_name)"
   ]
  },
  {
   "cell_type": "code",
   "execution_count": null,
   "metadata": {},
   "outputs": [],
   "source": [
    "def main():\n",
    "  df = pd.read_csv(\"emotions_images.csv\")\n",
    "  urls = df['Url'].tolist()\n",
    "  colors = [get_dominant_color(url) for url in urls]\n",
    "  df['color'] = colors\n",
    "  df.to_csv(\"emotions_images_colors.csv\")\n",
    "  \n",
    "main()"
   ]
  }
 ],
 "metadata": {
  "interpreter": {
   "hash": "d56e20087258be1dae39aa9f194b8314ac315bc35be12cc01beab0d61256e8ed"
  },
  "kernelspec": {
   "display_name": "Python 3.10.1 64-bit",
   "language": "python",
   "name": "python3"
  },
  "language_info": {
   "codemirror_mode": {
    "name": "ipython",
    "version": 3
   },
   "file_extension": ".py",
   "mimetype": "text/x-python",
   "name": "python",
   "nbconvert_exporter": "python",
   "pygments_lexer": "ipython3",
   "version": "3.9.7"
  },
  "orig_nbformat": 4
 },
 "nbformat": 4,
 "nbformat_minor": 2
}
