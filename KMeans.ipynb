{
 "cells": [
  {
   "cell_type": "markdown",
   "metadata": {},
   "source": [
    "#### Import libraries and read files"
   ]
  },
  {
   "cell_type": "code",
   "execution_count": 3,
   "metadata": {},
   "outputs": [],
   "source": [
    "from collections import Counter\n",
    "from sklearn.cluster import KMeans\n",
    "from matplotlib import colors\n",
    "import matplotlib.pyplot as plt\n",
    "import numpy as np\n",
    "import pandas as pd\n",
    "import cv2"
   ]
  },
  {
   "cell_type": "code",
   "execution_count": 4,
   "metadata": {},
   "outputs": [
    {
     "data": {
      "text/html": [
       "<div>\n",
       "<style scoped>\n",
       "    .dataframe tbody tr th:only-of-type {\n",
       "        vertical-align: middle;\n",
       "    }\n",
       "\n",
       "    .dataframe tbody tr th {\n",
       "        vertical-align: top;\n",
       "    }\n",
       "\n",
       "    .dataframe thead th {\n",
       "        text-align: right;\n",
       "    }\n",
       "</style>\n",
       "<table border=\"1\" class=\"dataframe\">\n",
       "  <thead>\n",
       "    <tr style=\"text-align: right;\">\n",
       "      <th></th>\n",
       "      <th>ID</th>\n",
       "      <th>Category</th>\n",
       "      <th>Artist</th>\n",
       "      <th>Title</th>\n",
       "      <th>Year</th>\n",
       "      <th>Image URL</th>\n",
       "      <th>Painting Info URL</th>\n",
       "      <th>Artist Info URL</th>\n",
       "    </tr>\n",
       "  </thead>\n",
       "  <tbody>\n",
       "    <tr>\n",
       "      <th>0</th>\n",
       "      <td>58c6237dedc2c9c7dc0de1ae</td>\n",
       "      <td>Impressionism</td>\n",
       "      <td>Charles Courtney Curran</td>\n",
       "      <td>In the Luxembourg Garden</td>\n",
       "      <td>1889</td>\n",
       "      <td>https://uploads3.wikiart.org/00123/images/char...</td>\n",
       "      <td>https://www.wikiart.org/en/charles-courtney-cu...</td>\n",
       "      <td>https://www.wikiart.org/en/charles-courtney-cu...</td>\n",
       "    </tr>\n",
       "    <tr>\n",
       "      <th>1</th>\n",
       "      <td>577280dfedc2cb3880f28e76</td>\n",
       "      <td>Neo-Expressionism</td>\n",
       "      <td>Keith Haring</td>\n",
       "      <td>The Marriage of Heaven and Hell</td>\n",
       "      <td>1984</td>\n",
       "      <td>https://uploads1.wikiart.org/images/keith-hari...</td>\n",
       "      <td>https://www.wikiart.org/en/keith-haring/the-ma...</td>\n",
       "      <td>https://www.wikiart.org/en/keith-haring</td>\n",
       "    </tr>\n",
       "    <tr>\n",
       "      <th>2</th>\n",
       "      <td>57727f2dedc2cb3880ed5fa9</td>\n",
       "      <td>Post-Impressionism</td>\n",
       "      <td>Jozsef Rippl-Ronai</td>\n",
       "      <td>Uncle Piacsek in front of the Black Sideboard</td>\n",
       "      <td>1906</td>\n",
       "      <td>https://uploads3.wikiart.org/images/j-zsef-rip...</td>\n",
       "      <td>https://www.wikiart.org/en/jozsef-rippl-ronai/...</td>\n",
       "      <td>https://www.wikiart.org/en/jozsef-rippl-ronai</td>\n",
       "    </tr>\n",
       "    <tr>\n",
       "      <th>3</th>\n",
       "      <td>58d1240cedc2c94f900fc610</td>\n",
       "      <td>Cubism</td>\n",
       "      <td>Vadym Meller</td>\n",
       "      <td>Monk. For the Play &amp;#39;Mazeppa&amp;#39;</td>\n",
       "      <td>1920</td>\n",
       "      <td>https://uploads2.wikiart.org/00124/images/vady...</td>\n",
       "      <td>https://www.wikiart.org/en/vadym-meller/monk-f...</td>\n",
       "      <td>https://www.wikiart.org/en/vadym-meller</td>\n",
       "    </tr>\n",
       "    <tr>\n",
       "      <th>4</th>\n",
       "      <td>57727de7edc2cb3880e91f26</td>\n",
       "      <td>Romanticism</td>\n",
       "      <td>David Wilkie</td>\n",
       "      <td>The Defence of Sarago&amp;#231;a</td>\n",
       "      <td>1828</td>\n",
       "      <td>https://uploads6.wikiart.org/images/david-wilk...</td>\n",
       "      <td>https://www.wikiart.org/en/david-wilkie/the-de...</td>\n",
       "      <td>https://www.wikiart.org/en/david-wilkie</td>\n",
       "    </tr>\n",
       "  </tbody>\n",
       "</table>\n",
       "</div>"
      ],
      "text/plain": [
       "                         ID            Category                   Artist  \\\n",
       "0  58c6237dedc2c9c7dc0de1ae       Impressionism  Charles Courtney Curran   \n",
       "1  577280dfedc2cb3880f28e76   Neo-Expressionism             Keith Haring   \n",
       "2  57727f2dedc2cb3880ed5fa9  Post-Impressionism       Jozsef Rippl-Ronai   \n",
       "3  58d1240cedc2c94f900fc610              Cubism             Vadym Meller   \n",
       "4  57727de7edc2cb3880e91f26         Romanticism             David Wilkie   \n",
       "\n",
       "                                           Title  Year  \\\n",
       "0                       In the Luxembourg Garden  1889   \n",
       "1                The Marriage of Heaven and Hell  1984   \n",
       "2  Uncle Piacsek in front of the Black Sideboard  1906   \n",
       "3           Monk. For the Play &#39;Mazeppa&#39;  1920   \n",
       "4                   The Defence of Sarago&#231;a  1828   \n",
       "\n",
       "                                           Image URL  \\\n",
       "0  https://uploads3.wikiart.org/00123/images/char...   \n",
       "1  https://uploads1.wikiart.org/images/keith-hari...   \n",
       "2  https://uploads3.wikiart.org/images/j-zsef-rip...   \n",
       "3  https://uploads2.wikiart.org/00124/images/vady...   \n",
       "4  https://uploads6.wikiart.org/images/david-wilk...   \n",
       "\n",
       "                                   Painting Info URL  \\\n",
       "0  https://www.wikiart.org/en/charles-courtney-cu...   \n",
       "1  https://www.wikiart.org/en/keith-haring/the-ma...   \n",
       "2  https://www.wikiart.org/en/jozsef-rippl-ronai/...   \n",
       "3  https://www.wikiart.org/en/vadym-meller/monk-f...   \n",
       "4  https://www.wikiart.org/en/david-wilkie/the-de...   \n",
       "\n",
       "                                     Artist Info URL  \n",
       "0  https://www.wikiart.org/en/charles-courtney-cu...  \n",
       "1            https://www.wikiart.org/en/keith-haring  \n",
       "2      https://www.wikiart.org/en/jozsef-rippl-ronai  \n",
       "3            https://www.wikiart.org/en/vadym-meller  \n",
       "4            https://www.wikiart.org/en/david-wilkie  "
      ]
     },
     "execution_count": 4,
     "metadata": {},
     "output_type": "execute_result"
    }
   ],
   "source": [
    "df = pd.read_csv(\"data/WikiArt-info.tsv\", sep='\\t')\n",
    "df.head()"
   ]
  },
  {
   "cell_type": "code",
   "execution_count": 6,
   "metadata": {},
   "outputs": [],
   "source": [
    "def RGB2HEX(color):\n",
    "    return \"#{:02x}{:02x}{:02x}\".format(int(color[0]), int(color[1]), int(color[2]))"
   ]
  },
  {
   "cell_type": "code",
   "execution_count": null,
   "metadata": {},
   "outputs": [],
   "source": [
    "def get_image(image_path):\n",
    "    image = cv2.imread(image_path)\n",
    "    image = cv2.cvtColor(image, cv2.COLOR_BGR2RGB)\n",
    "    return image"
   ]
  },
  {
   "cell_type": "code",
   "execution_count": null,
   "metadata": {},
   "outputs": [],
   "source": [
    "modified_image = cv2.resize(image, (600, 400), interpolation = cv2.INTER_AREA)\n",
    "modified_image = modified_image.reshape(modified_image.shape[0]*modified_image.shape[1], 3)"
   ]
  },
  {
   "cell_type": "code",
   "execution_count": null,
   "metadata": {},
   "outputs": [],
   "source": [
    "clf = KMeans(n_clusters = number_of_colors)\n",
    "labels = clf.fit_predict(modified_image)"
   ]
  },
  {
   "cell_type": "code",
   "execution_count": null,
   "metadata": {},
   "outputs": [],
   "source": [
    "counts = Counter(labels)\n",
    "\n",
    "center_colors = clf.cluster_centers_\n",
    "# We get ordered colors by iterating through the keys\n",
    "ordered_colors = [center_colors[i] for i in counts.keys()]\n",
    "hex_colors = [RGB2HEX(ordered_colors[i]) for i in counts.keys()]\n",
    "rgb_colors = [ordered_colors[i] for i in counts.keys()]\n",
    "\n",
    "if (show_chart):\n",
    "    plt.figure(figsize = (8, 6))\n",
    "    plt.pie(counts.values(), labels = hex_colors, colors = hex_colors)\n",
    "\n",
    "return rgb_colors"
   ]
  },
  {
   "cell_type": "code",
   "execution_count": null,
   "metadata": {},
   "outputs": [],
   "source": [
    "get_colors(get_image(‘sample_image.jpg’), 8, True)"
   ]
  }
 ],
 "metadata": {
  "interpreter": {
   "hash": "d56e20087258be1dae39aa9f194b8314ac315bc35be12cc01beab0d61256e8ed"
  },
  "kernelspec": {
   "display_name": "Python 3.10.1 64-bit",
   "language": "python",
   "name": "python3"
  },
  "language_info": {
   "codemirror_mode": {
    "name": "ipython",
    "version": 3
   },
   "file_extension": ".py",
   "mimetype": "text/x-python",
   "name": "python",
   "nbconvert_exporter": "python",
   "pygments_lexer": "ipython3",
   "version": "3.9.7"
  },
  "orig_nbformat": 4
 },
 "nbformat": 4,
 "nbformat_minor": 2
}
